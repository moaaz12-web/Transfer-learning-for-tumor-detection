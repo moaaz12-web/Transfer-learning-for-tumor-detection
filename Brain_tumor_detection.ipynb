{
  "cells": [
    {
      "cell_type": "markdown",
      "metadata": {
        "id": "view-in-github",
        "colab_type": "text"
      },
      "source": [
        "<a href=\"https://colab.research.google.com/github/moaaz12-web/Transfer-learning-for-tumor-detection/blob/main/Brain_tumor_detection.ipynb\" target=\"_parent\"><img src=\"https://colab.research.google.com/assets/colab-badge.svg\" alt=\"Open In Colab\"/></a>"
      ]
    },
    {
      "cell_type": "markdown",
      "metadata": {
        "id": "gH1gMb-BUOd7"
      },
      "source": [
        "# IMPORT DEPENDENCIES"
      ]
    },
    {
      "cell_type": "markdown",
      "metadata": {
        "id": "wBjU9RsJUz-J"
      },
      "source": [
        "[Dataset link](https://www.kaggle.com/datasets/ahmedhamada0/brain-tumor-detection)"
      ]
    },
    {
      "cell_type": "code",
      "execution_count": null,
      "metadata": {
        "id": "f2EA6llVZs4M"
      },
      "outputs": [],
      "source": [
        "! unzip /content/drive/MyDrive/data/br_detect.zip"
      ]
    },
    {
      "cell_type": "code",
      "execution_count": null,
      "metadata": {
        "id": "_LAWC5YGGdNc"
      },
      "outputs": [],
      "source": [
        "import tensorflow as tf\n",
        "import os\n",
        "os.environ[\"CUDA_DEVICE_ORDER\"] = \"PCI_BUS_ID\"  # see issue #152\n",
        "os.environ['CUDA_VISIBLE_DEVICES'] = '0'  # -1  to USE CPU\n",
        "from keras.layers import Conv2D, Input, ZeroPadding2D, BatchNormalization, Activation, MaxPooling2D, Flatten, Dense,Dropout\n",
        "from keras.models import Model, load_model\n",
        "from keras.callbacks import TensorBoard, ModelCheckpoint, ReduceLROnPlateau\n",
        "from sklearn.model_selection import train_test_split\n",
        "from sklearn.metrics import f1_score\n",
        "from sklearn.utils import shuffle\n",
        "import cv2\n",
        "import imutils\n",
        "import numpy as np\n",
        "import matplotlib.pyplot as plt\n",
        "import time\n",
        "from os import listdir\n",
        "\n",
        "get_ipython().magic(u'matplotlib inline')"
      ]
    },
    {
      "cell_type": "markdown",
      "metadata": {
        "id": "9948TA9sUUAk"
      },
      "source": [
        "# CROP IMAGE"
      ]
    },
    {
      "cell_type": "markdown",
      "metadata": {
        "id": "xUP2EzIlUXdS"
      },
      "source": [
        "**In this function we take in the input image and apply some preprocessing. We crop it, resize it, apply Gaussian Blur, and convert the color channels of the image as per our needs.**"
      ]
    },
    {
      "cell_type": "code",
      "execution_count": null,
      "metadata": {
        "id": "qLaHc2YLGnf2"
      },
      "outputs": [],
      "source": [
        "def crop_brain_contour(image, plot=False):\n",
        "\n",
        "    # Convert the image to grayscale, and blur it slightly\n",
        "    gray = cv2.cvtColor(image, cv2.COLOR_BGR2GRAY)\n",
        "    gray = cv2.GaussianBlur(gray, (5, 5), 0)\n",
        "\n",
        "    # Threshold the image, then perform a series of erosions +\n",
        "    # dilations to remove any small regions of noise\n",
        "    thresh = cv2.threshold(gray, 45, 255, cv2.THRESH_BINARY)[1]\n",
        "    thresh = cv2.erode(thresh, None, iterations=2)\n",
        "    thresh = cv2.dilate(thresh, None, iterations=2)\n",
        "\n",
        "    # Find contours in thresholded image, then grab the largest one\n",
        "    cnts = cv2.findContours(thresh.copy(), cv2.RETR_EXTERNAL, cv2.CHAIN_APPROX_SIMPLE)\n",
        "    cnts = imutils.grab_contours(cnts)\n",
        "    c = max(cnts, key=cv2.contourArea)\n",
        "\n",
        "    # Find the extreme points\n",
        "    extLeft = tuple(c[c[:, :, 0].argmin()][0])\n",
        "    extRight = tuple(c[c[:, :, 0].argmax()][0])\n",
        "    extTop = tuple(c[c[:, :, 1].argmin()][0])\n",
        "    extBot = tuple(c[c[:, :, 1].argmax()][0])\n",
        "\n",
        "    # crop new image out of the original image using the four extreme points (left, right, top, bottom)\n",
        "    new_image = image[extTop[1]:extBot[1], extLeft[0]:extRight[0]]\n",
        "\n",
        "    if plot:\n",
        "        plt.figure()\n",
        "\n",
        "        plt.subplot(1, 2, 1)\n",
        "        plt.imshow(image)\n",
        "\n",
        "        plt.tick_params(axis='both', which='both',\n",
        "                        top=False, bottom=False, left=False, right=False,\n",
        "                        labelbottom=False, labeltop=False, labelleft=False, labelright=False)\n",
        "        plt.title('Original Image')\n",
        "        plt.subplot(1, 2, 2)\n",
        "        plt.imshow(new_image)\n",
        "        plt.tick_params(axis='both', which='both',\n",
        "                        top=False, bottom=False, left=False, right=False,\n",
        "                        labelbottom=False, labeltop=False, labelleft=False, labelright=False)\n",
        "        plt.title('Cropped Image')\n",
        "        plt.show()\n",
        "    return new_image"
      ]
    },
    {
      "cell_type": "markdown",
      "source": [
        "**Let's use the above function to see an input image example.**"
      ],
      "metadata": {
        "id": "4HxDs5LUWtHY"
      }
    },
    {
      "cell_type": "code",
      "execution_count": null,
      "metadata": {
        "colab": {
          "base_uri": "https://localhost:8080/",
          "height": 246
        },
        "id": "02ZUPJ6GGoee",
        "outputId": "0f02f0e9-94c6-49d0-c631-8b0d91cf2ccc"
      },
      "outputs": [
        {
          "output_type": "display_data",
          "data": {
            "text/plain": [
              "<Figure size 432x288 with 2 Axes>"
            ],
            "image/png": "[encoded data removed]"
          },
          "metadata": {}
        }
      ],
      "source": [
        "ex_img = cv2.imread('/content/yes/y0.jpg')\n",
        "\n",
        "# Path to an input image in your drive\n",
        "ex_new_img = crop_brain_contour(ex_img, True)"
      ]
    },
    {
      "cell_type": "markdown",
      "metadata": {
        "id": "yeect7itUe3J"
      },
      "source": [
        "# LOAD THE DATASET"
      ]
    },
    {
      "cell_type": "markdown",
      "metadata": {
        "id": "bMTJTIDbUkDX"
      },
      "source": [
        "**In this function, we take in a list containing the path to our images, and a tuple specifying the image size (width and height). This function will output us an array of images (X) and their corresponding labels (tumorous or non-tumorous) (y)**"
      ]
    },
    {
      "cell_type": "code",
      "execution_count": null,
      "metadata": {
        "id": "9mFSRuepGsHg"
      },
      "outputs": [],
      "source": [
        "def load_data(dir_list, image_size):\n",
        "    \"\"\"\n",
        "    Read images, resize and normalize them. \n",
        "    Arguments:\n",
        "        dir_list: list of strings representing file directories.\n",
        "    Returns:\n",
        "        X: A numpy array with shape = (#_examples, image_width, image_height, #_channels)\n",
        "        y: A numpy array with shape = (#_examples, 1)\n",
        "    \"\"\"\n",
        "    # load all images in a directory\n",
        "    X = []\n",
        "    y = []\n",
        "    image_width, image_height = image_size\n",
        "    for directory in dir_list:\n",
        "        for filename in listdir(directory):\n",
        "            print(filename)\n",
        "            print(directory)\n",
        "            # load the image\n",
        "            image = cv2.imread(directory + '/' + filename)\n",
        "            # print(image)\n",
        "            # crop the brain and ignore the unnecessary rest part of the image\n",
        "            image = crop_brain_contour(image, plot=False)\n",
        "            # resize image\n",
        "            image = cv2.resize(image, dsize=(image_width, image_height), interpolation=cv2.INTER_CUBIC)\n",
        "            # normalize values\n",
        "            image = image / 255.\n",
        "            # convert image to numpy array and append it to X\n",
        "            X.append(image)\n",
        "            # append a value of 1 to the target array if the image\n",
        "            # is in the folder named 'yes', otherwise append 0.\n",
        "            if directory[-3:] == 'yes':\n",
        "                y.append([1])\n",
        "            else:\n",
        "                y.append([0])\n",
        "    X = np.array(X)\n",
        "    y = np.array(y)\n",
        "    # Shuffle the data\n",
        "    X, y = shuffle(X, y)\n",
        "    print('Number of examples is:{}'.format(len(X)))\n",
        "    return X,y\n"
      ]
    },
    {
      "cell_type": "code",
      "execution_count": null,
      "metadata": {
        "id": "TSdte6IBJfoi"
      },
      "outputs": [],
      "source": [
        "folders = ['/content/yes', '/content/no']\n",
        "img_size = (150,150)"
      ]
    },
    {
      "cell_type": "code",
      "execution_count": null,
      "metadata": {
        "colab": {
          "base_uri": "https://localhost:8080/"
        },
        "id": "cuNVDDKSJ6wn",
        "outputId": "7d460325-f937-4c45-e82f-5b187fc9ead8"
      },
      "outputs": [
        {
          "output_type": "stream",
          "name": "stdout",
          "text": [
            "Number of examples is:3000\n"
          ]
        }
      ],
      "source": [
        "X,y = load_data(folders, img_size)"
      ]
    },
    {
      "cell_type": "code",
      "source": [
        "X  #Lets check X"
      ],
      "metadata": {
        "colab": {
          "base_uri": "https://localhost:8080/"
        },
        "id": "5_r4i0z_GX00",
        "outputId": "8b361132-191f-4832-beb8-cdafd3cdebdc"
      },
      "execution_count": null,
      "outputs": [
        {
          "output_type": "execute_result",
          "data": {
            "text/plain": [
              "array([[[[0.        , 0.        , 0.        ],\n",
              "         [0.        , 0.        , 0.        ],\n",
              "         [0.        , 0.        , 0.        ],\n",
              "         ...,\n",
              "         [0.        , 0.        , 0.        ],\n",
              "         [0.        , 0.        , 0.        ],\n",
              "         [0.        , 0.        , 0.        ]],\n",
              "\n",
              "        [[0.        , 0.        , 0.        ],\n",
              "         [0.        , 0.        , 0.        ],\n",
              "         [0.        , 0.        , 0.        ],\n",
              "         ...,\n",
              "         [0.        , 0.        , 0.        ],\n",
              "         [0.        , 0.        , 0.        ],\n",
              "         [0.        , 0.        , 0.        ]],\n",
              "\n",
              "        [[0.        , 0.        , 0.        ],\n",
              "         [0.        , 0.        , 0.        ],\n",
              "         [0.        , 0.        , 0.        ],\n",
              "         ...,\n",
              "         [0.        , 0.        , 0.        ],\n",
              "         [0.        , 0.        , 0.        ],\n",
              "         [0.        , 0.        , 0.        ]],\n",
              "\n",
              "        ...,\n",
              "\n",
              "        [[0.        , 0.        , 0.        ],\n",
              "         [0.        , 0.        , 0.        ],\n",
              "         [0.        , 0.        , 0.        ],\n",
              "         ...,\n",
              "         [0.        , 0.        , 0.        ],\n",
              "         [0.        , 0.        , 0.        ],\n",
              "         [0.        , 0.        , 0.        ]],\n",
              "\n",
              "        [[0.        , 0.        , 0.        ],\n",
              "         [0.        , 0.        , 0.        ],\n",
              "         [0.        , 0.        , 0.        ],\n",
              "         ...,\n",
              "         [0.        , 0.        , 0.        ],\n",
              "         [0.        , 0.        , 0.        ],\n",
              "         [0.        , 0.        , 0.        ]],\n",
              "\n",
              "        [[0.        , 0.        , 0.        ],\n",
              "         [0.        , 0.        , 0.        ],\n",
              "         [0.        , 0.        , 0.        ],\n",
              "         ...,\n",
              "         [0.        , 0.        , 0.        ],\n",
              "         [0.        , 0.        , 0.        ],\n",
              "         [0.        , 0.        , 0.        ]]],\n",
              "\n",
              "\n",
              "       [[[0.        , 0.        , 0.        ],\n",
              "         [0.        , 0.        , 0.        ],\n",
              "         [0.        , 0.        , 0.        ],\n",
              "         ...,\n",
              "         [0.        , 0.        , 0.        ],\n",
              "         [0.        , 0.        , 0.        ],\n",
              "         [0.        , 0.        , 0.        ]],\n",
              "\n",
              "        [[0.        , 0.        , 0.        ],\n",
              "         [0.        , 0.        , 0.        ],\n",
              "         [0.        , 0.        , 0.        ],\n",
              "         ...,\n",
              "         [0.        , 0.        , 0.        ],\n",
              "         [0.        , 0.        , 0.        ],\n",
              "         [0.        , 0.        , 0.        ]],\n",
              "\n",
              "        [[0.        , 0.        , 0.        ],\n",
              "         [0.        , 0.        , 0.        ],\n",
              "         [0.        , 0.        , 0.        ],\n",
              "         ...,\n",
              "         [0.        , 0.        , 0.        ],\n",
              "         [0.        , 0.        , 0.        ],\n",
              "         [0.        , 0.        , 0.        ]],\n",
              "\n",
              "        ...,\n",
              "\n",
              "        [[0.        , 0.        , 0.        ],\n",
              "         [0.        , 0.        , 0.        ],\n",
              "         [0.        , 0.        , 0.        ],\n",
              "         ...,\n",
              "         [0.        , 0.        , 0.        ],\n",
              "         [0.        , 0.        , 0.        ],\n",
              "         [0.        , 0.        , 0.        ]],\n",
              "\n",
              "        [[0.        , 0.        , 0.        ],\n",
              "         [0.        , 0.        , 0.        ],\n",
              "         [0.        , 0.        , 0.        ],\n",
              "         ...,\n",
              "         [0.        , 0.        , 0.        ],\n",
              "         [0.        , 0.        , 0.        ],\n",
              "         [0.        , 0.        , 0.        ]],\n",
              "\n",
              "        [[0.        , 0.        , 0.        ],\n",
              "         [0.        , 0.        , 0.        ],\n",
              "         [0.        , 0.        , 0.        ],\n",
              "         ...,\n",
              "         [0.        , 0.        , 0.        ],\n",
              "         [0.        , 0.        , 0.        ],\n",
              "         [0.        , 0.        , 0.        ]]],\n",
              "\n",
              "\n",
              "       [[[0.        , 0.        , 0.        ],\n",
              "         [0.        , 0.        , 0.        ],\n",
              "         [0.        , 0.        , 0.        ],\n",
              "         ...,\n",
              "         [0.        , 0.        , 0.        ],\n",
              "         [0.        , 0.        , 0.        ],\n",
              "         [0.        , 0.        , 0.        ]],\n",
              "\n",
              "        [[0.        , 0.        , 0.        ],\n",
              "         [0.        , 0.        , 0.        ],\n",
              "         [0.        , 0.        , 0.        ],\n",
              "         ...,\n",
              "         [0.        , 0.        , 0.        ],\n",
              "         [0.        , 0.        , 0.        ],\n",
              "         [0.        , 0.        , 0.        ]],\n",
              "\n",
              "        [[0.        , 0.        , 0.        ],\n",
              "         [0.        , 0.        , 0.        ],\n",
              "         [0.        , 0.        , 0.        ],\n",
              "         ...,\n",
              "         [0.        , 0.        , 0.        ],\n",
              "         [0.        , 0.        , 0.        ],\n",
              "         [0.        , 0.        , 0.        ]],\n",
              "\n",
              "        ...,\n",
              "\n",
              "        [[0.        , 0.        , 0.        ],\n",
              "         [0.        , 0.        , 0.        ],\n",
              "         [0.        , 0.        , 0.        ],\n",
              "         ...,\n",
              "         [0.        , 0.        , 0.        ],\n",
              "         [0.        , 0.        , 0.        ],\n",
              "         [0.        , 0.        , 0.        ]],\n",
              "\n",
              "        [[0.        , 0.        , 0.        ],\n",
              "         [0.        , 0.        , 0.        ],\n",
              "         [0.        , 0.        , 0.        ],\n",
              "         ...,\n",
              "         [0.        , 0.        , 0.        ],\n",
              "         [0.        , 0.        , 0.        ],\n",
              "         [0.        , 0.        , 0.        ]],\n",
              "\n",
              "        [[0.        , 0.        , 0.        ],\n",
              "         [0.        , 0.        , 0.        ],\n",
              "         [0.        , 0.        , 0.        ],\n",
              "         ...,\n",
              "         [0.        , 0.        , 0.        ],\n",
              "         [0.        , 0.        , 0.        ],\n",
              "         [0.        , 0.        , 0.        ]]],\n",
              "\n",
              "\n",
              "       ...,\n",
              "\n",
              "\n",
              "       [[[0.        , 0.        , 0.        ],\n",
              "         [0.        , 0.        , 0.        ],\n",
              "         [0.        , 0.        , 0.        ],\n",
              "         ...,\n",
              "         [0.        , 0.        , 0.        ],\n",
              "         [0.        , 0.        , 0.        ],\n",
              "         [0.        , 0.        , 0.        ]],\n",
              "\n",
              "        [[0.        , 0.        , 0.        ],\n",
              "         [0.        , 0.        , 0.        ],\n",
              "         [0.        , 0.        , 0.        ],\n",
              "         ...,\n",
              "         [0.        , 0.        , 0.        ],\n",
              "         [0.        , 0.        , 0.        ],\n",
              "         [0.        , 0.        , 0.        ]],\n",
              "\n",
              "        [[0.        , 0.        , 0.        ],\n",
              "         [0.        , 0.        , 0.        ],\n",
              "         [0.        , 0.        , 0.        ],\n",
              "         ...,\n",
              "         [0.        , 0.        , 0.        ],\n",
              "         [0.        , 0.        , 0.        ],\n",
              "         [0.        , 0.        , 0.        ]],\n",
              "\n",
              "        ...,\n",
              "\n",
              "        [[0.        , 0.        , 0.        ],\n",
              "         [0.        , 0.        , 0.        ],\n",
              "         [0.        , 0.        , 0.        ],\n",
              "         ...,\n",
              "         [0.        , 0.        , 0.        ],\n",
              "         [0.        , 0.        , 0.        ],\n",
              "         [0.        , 0.        , 0.        ]],\n",
              "\n",
              "        [[0.        , 0.        , 0.        ],\n",
              "         [0.        , 0.        , 0.        ],\n",
              "         [0.        , 0.        , 0.        ],\n",
              "         ...,\n",
              "         [0.        , 0.        , 0.        ],\n",
              "         [0.        , 0.        , 0.        ],\n",
              "         [0.        , 0.        , 0.        ]],\n",
              "\n",
              "        [[0.        , 0.        , 0.        ],\n",
              "         [0.        , 0.        , 0.        ],\n",
              "         [0.        , 0.        , 0.        ],\n",
              "         ...,\n",
              "         [0.        , 0.        , 0.        ],\n",
              "         [0.        , 0.        , 0.        ],\n",
              "         [0.        , 0.        , 0.        ]]],\n",
              "\n",
              "\n",
              "       [[[0.00784314, 0.00784314, 0.00784314],\n",
              "         [0.00784314, 0.00784314, 0.00784314],\n",
              "         [0.00784314, 0.00784314, 0.00784314],\n",
              "         ...,\n",
              "         [0.00784314, 0.00784314, 0.00784314],\n",
              "         [0.00784314, 0.00784314, 0.00784314],\n",
              "         [0.00784314, 0.00784314, 0.00784314]],\n",
              "\n",
              "        [[0.00784314, 0.00784314, 0.00784314],\n",
              "         [0.00784314, 0.00784314, 0.00784314],\n",
              "         [0.00784314, 0.00784314, 0.00784314],\n",
              "         ...,\n",
              "         [0.00784314, 0.00784314, 0.00784314],\n",
              "         [0.00784314, 0.00784314, 0.00784314],\n",
              "         [0.00784314, 0.00784314, 0.00784314]],\n",
              "\n",
              "        [[0.00784314, 0.00784314, 0.00784314],\n",
              "         [0.00784314, 0.00784314, 0.00784314],\n",
              "         [0.00784314, 0.00784314, 0.00784314],\n",
              "         ...,\n",
              "         [0.00784314, 0.00784314, 0.00784314],\n",
              "         [0.00784314, 0.00784314, 0.00784314],\n",
              "         [0.00784314, 0.00784314, 0.00784314]],\n",
              "\n",
              "        ...,\n",
              "\n",
              "        [[0.01176471, 0.01176471, 0.01176471],\n",
              "         [0.01568627, 0.01568627, 0.01568627],\n",
              "         [0.01960784, 0.01960784, 0.01960784],\n",
              "         ...,\n",
              "         [0.01960784, 0.01960784, 0.01960784],\n",
              "         [0.01960784, 0.01960784, 0.01960784],\n",
              "         [0.02352941, 0.02352941, 0.02352941]],\n",
              "\n",
              "        [[0.01176471, 0.01176471, 0.01176471],\n",
              "         [0.01568627, 0.01568627, 0.01568627],\n",
              "         [0.01568627, 0.01568627, 0.01568627],\n",
              "         ...,\n",
              "         [0.02352941, 0.02352941, 0.02352941],\n",
              "         [0.02352941, 0.02352941, 0.02352941],\n",
              "         [0.02745098, 0.02745098, 0.02745098]],\n",
              "\n",
              "        [[0.01176471, 0.01176471, 0.01176471],\n",
              "         [0.01176471, 0.01176471, 0.01176471],\n",
              "         [0.01176471, 0.01176471, 0.01176471],\n",
              "         ...,\n",
              "         [0.01568627, 0.01568627, 0.01568627],\n",
              "         [0.01960784, 0.01960784, 0.01960784],\n",
              "         [0.01960784, 0.01960784, 0.01960784]]],\n",
              "\n",
              "\n",
              "       [[[0.        , 0.        , 0.        ],\n",
              "         [0.        , 0.        , 0.        ],\n",
              "         [0.        , 0.        , 0.        ],\n",
              "         ...,\n",
              "         [0.        , 0.        , 0.        ],\n",
              "         [0.        , 0.        , 0.        ],\n",
              "         [0.        , 0.        , 0.        ]],\n",
              "\n",
              "        [[0.        , 0.        , 0.        ],\n",
              "         [0.        , 0.        , 0.        ],\n",
              "         [0.        , 0.        , 0.        ],\n",
              "         ...,\n",
              "         [0.        , 0.        , 0.        ],\n",
              "         [0.        , 0.        , 0.        ],\n",
              "         [0.        , 0.        , 0.        ]],\n",
              "\n",
              "        [[0.        , 0.        , 0.        ],\n",
              "         [0.        , 0.        , 0.        ],\n",
              "         [0.        , 0.        , 0.        ],\n",
              "         ...,\n",
              "         [0.        , 0.        , 0.        ],\n",
              "         [0.        , 0.        , 0.        ],\n",
              "         [0.        , 0.        , 0.        ]],\n",
              "\n",
              "        ...,\n",
              "\n",
              "        [[0.        , 0.        , 0.        ],\n",
              "         [0.        , 0.        , 0.        ],\n",
              "         [0.        , 0.        , 0.        ],\n",
              "         ...,\n",
              "         [0.        , 0.        , 0.        ],\n",
              "         [0.        , 0.        , 0.        ],\n",
              "         [0.        , 0.        , 0.        ]],\n",
              "\n",
              "        [[0.        , 0.        , 0.        ],\n",
              "         [0.        , 0.        , 0.        ],\n",
              "         [0.        , 0.        , 0.        ],\n",
              "         ...,\n",
              "         [0.        , 0.        , 0.        ],\n",
              "         [0.        , 0.        , 0.        ],\n",
              "         [0.        , 0.        , 0.        ]],\n",
              "\n",
              "        [[0.        , 0.        , 0.        ],\n",
              "         [0.        , 0.        , 0.        ],\n",
              "         [0.        , 0.        , 0.        ],\n",
              "         ...,\n",
              "         [0.        , 0.        , 0.        ],\n",
              "         [0.        , 0.        , 0.        ],\n",
              "         [0.        , 0.        , 0.        ]]]])"
            ]
          },
          "metadata": {},
          "execution_count": 13
        }
      ]
    },
    {
      "cell_type": "code",
      "source": [
        "y #Lets check y"
      ],
      "metadata": {
        "colab": {
          "base_uri": "https://localhost:8080/"
        },
        "id": "Iq2z2at6GY7v",
        "outputId": "0081d7ab-fe36-4e60-8436-923912c7ac71"
      },
      "execution_count": null,
      "outputs": [
        {
          "output_type": "execute_result",
          "data": {
            "text/plain": [
              "array([[0],\n",
              "       [1],\n",
              "       [0],\n",
              "       ...,\n",
              "       [1],\n",
              "       [1],\n",
              "       [1]])"
            ]
          },
          "metadata": {},
          "execution_count": 14
        }
      ]
    },
    {
      "cell_type": "markdown",
      "metadata": {
        "id": "2FznkeqMU4ZZ"
      },
      "source": [
        "# SPLIT THE DATASET"
      ]
    },
    {
      "cell_type": "markdown",
      "metadata": {
        "id": "E7zzn0dCU6P5"
      },
      "source": [
        "**In this function, we split the whole dataset into training, validation, and testing data. We will use 80% of the data for training, 45% for validation, and 45% for testing**"
      ]
    },
    {
      "cell_type": "code",
      "execution_count": null,
      "metadata": {
        "id": "tb75_G2TJqco"
      },
      "outputs": [],
      "source": [
        "def split_data(X, y, test_size=0.2):\n",
        "\n",
        "    X_train, X_test_val, y_train, y_test_val = train_test_split(X, y, test_size=test_size, random_state=42)\n",
        "    X_test, X_val, y_test, y_val = train_test_split(X_test_val, y_test_val, test_size=0.5, random_state=42)\n",
        "    return X_train, y_train, X_val, y_val, X_test, y_test\n",
        "\n",
        "X_train, y_train, X_val, y_val, X_test, y_test = split_data(X, y, test_size=0.3)"
      ]
    },
    {
      "cell_type": "code",
      "execution_count": null,
      "metadata": {
        "id": "8YnciR2vijnH"
      },
      "outputs": [],
      "source": [
        "del X\n",
        "del y\n",
        "# Let's delete X and y to free up memory"
      ]
    },
    {
      "cell_type": "code",
      "execution_count": null,
      "metadata": {
        "colab": {
          "base_uri": "https://localhost:8080/"
        },
        "id": "_yPiMC9pKtQo",
        "outputId": "7de523e2-e3a8-4ae3-e91c-073ccbc3710d"
      },
      "outputs": [
        {
          "output_type": "stream",
          "name": "stdout",
          "text": [
            "number of training examples = 2100\n",
            "number of validation examples = 450\n",
            "number of test examples = 450\n",
            "X_train shape: (2100, 150, 150, 3)\n",
            "Y_train shape: (2100, 1)\n",
            "X_val (dev) shape: (450, 150, 150, 3)\n",
            "Y_val (dev) shape: (450, 1)\n",
            "X_test shape: (450, 150, 150, 3)\n",
            "Y_test shape: (450, 1)\n"
          ]
        }
      ],
      "source": [
        "print (\"number of training examples = \" + str(X_train.shape[0]))\n",
        "print (\"number of validation examples = \" + str(X_val.shape[0]))\n",
        "print (\"number of test examples = \" + str(X_test.shape[0]))\n",
        "print (\"X_train shape: \" + str(X_train.shape))\n",
        "print (\"Y_train shape: \" + str(y_train.shape))\n",
        "print (\"X_val (dev) shape: \" + str(X_val.shape))\n",
        "print (\"Y_val (dev) shape: \" + str(y_val.shape))\n",
        "print (\"X_test shape: \" + str(X_test.shape))\n",
        "print (\"Y_test shape: \" + str(y_test.shape))"
      ]
    },
    {
      "cell_type": "markdown",
      "metadata": {
        "id": "xRb-GPJPVF0z"
      },
      "source": [
        "# FUNCTION FOR COMPUTING THE F1-SCORE"
      ]
    },
    {
      "cell_type": "code",
      "execution_count": null,
      "metadata": {
        "id": "Xluuh6AbKzeN"
      },
      "outputs": [],
      "source": [
        "def compute_f1_score(y_true, prob):\n",
        "    # convert the vector of probabilities to a target vector\n",
        "    y_pred = np.where(prob > 0.5, 1, 0)\n",
        "    score = f1_score(y_true, y_pred)\n",
        "\n",
        "    return score"
      ]
    },
    {
      "cell_type": "markdown",
      "metadata": {
        "id": "E4Vopw1QVKzA"
      },
      "source": [
        "# BUILDING THE CNN MODEL"
      ]
    },
    {
      "cell_type": "code",
      "execution_count": null,
      "metadata": {
        "id": "jAB5jROoK8Iv"
      },
      "outputs": [],
      "source": [
        "def build_model(input_shape):\n",
        "    # Define the input placeholder as a tensor with shape input_shape. \n",
        "    X_input = Input(input_shape)\n",
        "    X = Conv2D(64, (3, 3), strides = (1, 1), padding='valid', name = 'conv0')(X_input)\n",
        "    X = BatchNormalization(axis = 3, name = 'bn0')(X)\n",
        "    X = Activation('relu')(X) # \n",
        "\n",
        "    # MAXPOOL\n",
        "    X = MaxPooling2D((2, 2), name='max_pool0')(X)\n",
        "\n",
        "    X = Conv2D(64, (3, 3), strides=(2, 2), padding='valid', name='conv1')(X)\n",
        "    X = BatchNormalization(axis=3, name='bn1')(X)\n",
        "    X = Activation('relu')(X)  \n",
        "\n",
        "    # MAXPOOL\n",
        "    X = MaxPooling2D((2, 2), name='max_pool1')(X) \n",
        "    X=Dropout(0.50)(X)\n",
        "\n",
        "    X = Conv2D(64, (3, 3), strides=(2, 2), padding='valid', name='conv2')(X)\n",
        "    X = BatchNormalization(axis=3, name='bn2')(X)\n",
        "    X = Activation('relu')(X) \n",
        "\n",
        "    # MAXPOOL\n",
        "    X = MaxPooling2D((2, 2), name='max_pool2')(X) \n",
        "\n",
        "    # FLATTEN X \n",
        "    X = Flatten()(X) \n",
        "\n",
        "    # FULLYCONNECTED\n",
        "    X = Dense(32, activation='relu', name='fc_myself')(X) \n",
        "\n",
        "    X = Dense(1, activation='sigmoid', name='fc')(X) \n",
        "\n",
        "    model = Model(inputs = X_input, outputs = X, name='BrainDetectionModel')\n",
        "\n",
        "    return model"
      ]
    },
    {
      "cell_type": "markdown",
      "metadata": {
        "id": "ROlg3gG1VQX2"
      },
      "source": [
        "# LET'S SEE A SUMMARY OF THE MODEL"
      ]
    },
    {
      "cell_type": "code",
      "execution_count": null,
      "metadata": {
        "colab": {
          "base_uri": "https://localhost:8080/"
        },
        "id": "DRWY4d2HLB8K",
        "outputId": "54db2a65-487a-48b8-b32c-a8df97454418"
      },
      "outputs": [
        {
          "output_type": "stream",
          "name": "stdout",
          "text": [
            "Model: \"BrainDetectionModel\"\n",
            "_________________________________________________________________\n",
            " Layer (type)                Output Shape              Param #   \n",
            "=================================================================\n",
            " input_3 (InputLayer)        [(None, 150, 150, 3)]     0         \n",
            "                                                                 \n",
            " conv0 (Conv2D)              (None, 148, 148, 64)      1792      \n",
            "                                                                 \n",
            " bn0 (BatchNormalization)    (None, 148, 148, 64)      256       \n",
            "                                                                 \n",
            " activation_6 (Activation)   (None, 148, 148, 64)      0         \n",
            "                                                                 \n",
            " max_pool0 (MaxPooling2D)    (None, 74, 74, 64)        0         \n",
            "                                                                 \n",
            " conv1 (Conv2D)              (None, 36, 36, 64)        36928     \n",
            "                                                                 \n",
            " bn1 (BatchNormalization)    (None, 36, 36, 64)        256       \n",
            "                                                                 \n",
            " activation_7 (Activation)   (None, 36, 36, 64)        0         \n",
            "                                                                 \n",
            " max_pool1 (MaxPooling2D)    (None, 18, 18, 64)        0         \n",
            "                                                                 \n",
            " dropout_2 (Dropout)         (None, 18, 18, 64)        0         \n",
            "                                                                 \n",
            " conv2 (Conv2D)              (None, 8, 8, 64)          36928     \n",
            "                                                                 \n",
            " bn2 (BatchNormalization)    (None, 8, 8, 64)          256       \n",
            "                                                                 \n",
            " activation_8 (Activation)   (None, 8, 8, 64)          0         \n",
            "                                                                 \n",
            " max_pool2 (MaxPooling2D)    (None, 4, 4, 64)          0         \n",
            "                                                                 \n",
            " flatten_2 (Flatten)         (None, 1024)              0         \n",
            "                                                                 \n",
            " fc_myself (Dense)           (None, 32)                32800     \n",
            "                                                                 \n",
            " fc (Dense)                  (None, 1)                 33        \n",
            "                                                                 \n",
            "=================================================================\n",
            "Total params: 109,249\n",
            "Trainable params: 108,865\n",
            "Non-trainable params: 384\n",
            "_________________________________________________________________\n"
          ]
        }
      ],
      "source": [
        "IMG_SHAPE = (150, 150, 3)\n",
        "model = build_model(IMG_SHAPE)\n",
        "model.summary()"
      ]
    },
    {
      "cell_type": "markdown",
      "metadata": {
        "id": "EF-utxYaVS_r"
      },
      "source": [
        "# COMPILE THE MODEL"
      ]
    },
    {
      "cell_type": "code",
      "execution_count": null,
      "metadata": {
        "id": "DbLV4IwIAsyL"
      },
      "outputs": [],
      "source": [
        "opt = tf.keras.optimizers.Adam(learning_rate=0.001)"
      ]
    },
    {
      "cell_type": "code",
      "execution_count": null,
      "metadata": {
        "id": "n4Hh-w-OLFvB"
      },
      "outputs": [],
      "source": [
        "model.compile(optimizer=opt, loss='binary_crossentropy', metrics=['accuracy'])\n",
        "\n",
        "\n",
        "import time\n",
        "\n",
        "# tensorboard\n",
        "log_file_name = 'brain_tumor_detection_cnn_{}'.format(int(time.time()))\n",
        "tensorboard = TensorBoard(log_dir='logs/{}'.format(log_file_name))\n",
        "\n",
        "\n",
        "\n",
        "\n",
        "# checkpoint\n",
        "# unique file name that will include the epoch and the validation (development) accuracy\n",
        "filepath=\"/cnn_parameters_improvement_{epoch:02d}_{val_acc:.2f}\"\n",
        "# save the model with the best validation (development) accuracy till now\n",
        "checkpoint = ModelCheckpoint(\"/models/{}.model\".format(filepath, monitor='val_accuracy', verbose=1, save_best_only=True, mode='max'))"
      ]
    },
    {
      "cell_type": "code",
      "execution_count": null,
      "metadata": {
        "id": "o_pYLuSXLJDk"
      },
      "outputs": [],
      "source": [
        "reduce_lr = ReduceLROnPlateau(monitor='val_loss', factor=0.35,\n",
        "                              patience=4, min_lr=0.001)"
      ]
    },
    {
      "cell_type": "markdown",
      "metadata": {
        "id": "pw0bxIvDVXtz"
      },
      "source": [
        "# FIT THE MODEL"
      ]
    },
    {
      "cell_type": "code",
      "execution_count": null,
      "metadata": {
        "colab": {
          "base_uri": "https://localhost:8080/"
        },
        "id": "LN1PIUQOLLLG",
        "outputId": "0867c8b9-8aa4-421a-dfd8-238255e8593c"
      },
      "outputs": [
        {
          "output_type": "stream",
          "name": "stdout",
          "text": [
            "Epoch 1/50\n",
            "17/17 [==============================] - 4s 176ms/step - loss: 0.7899 - accuracy: 0.5967 - val_loss: 0.6844 - val_accuracy: 0.5778 - lr: 0.0010\n",
            "Epoch 2/50\n",
            "17/17 [==============================] - 2s 139ms/step - loss: 0.5987 - accuracy: 0.6752 - val_loss: 0.6767 - val_accuracy: 0.6378 - lr: 0.0010\n",
            "Epoch 3/50\n",
            "17/17 [==============================] - 2s 147ms/step - loss: 0.5287 - accuracy: 0.7448 - val_loss: 0.6785 - val_accuracy: 0.5267 - lr: 0.0010\n",
            "Epoch 4/50\n",
            "17/17 [==============================] - 3s 150ms/step - loss: 0.4782 - accuracy: 0.7729 - val_loss: 0.6738 - val_accuracy: 0.5600 - lr: 0.0010\n",
            "Epoch 5/50\n",
            "17/17 [==============================] - 2s 145ms/step - loss: 0.4271 - accuracy: 0.8057 - val_loss: 0.6699 - val_accuracy: 0.5489 - lr: 0.0010\n",
            "Epoch 6/50\n",
            "17/17 [==============================] - 2s 139ms/step - loss: 0.4043 - accuracy: 0.8157 - val_loss: 0.6589 - val_accuracy: 0.7467 - lr: 0.0010\n",
            "Epoch 7/50\n",
            "17/17 [==============================] - 2s 138ms/step - loss: 0.3698 - accuracy: 0.8338 - val_loss: 0.6566 - val_accuracy: 0.6356 - lr: 0.0010\n",
            "Epoch 8/50\n",
            "17/17 [==============================] - 2s 139ms/step - loss: 0.3329 - accuracy: 0.8533 - val_loss: 0.6433 - val_accuracy: 0.6667 - lr: 0.0010\n",
            "Epoch 9/50\n",
            "17/17 [==============================] - 2s 146ms/step - loss: 0.3231 - accuracy: 0.8576 - val_loss: 0.6552 - val_accuracy: 0.6111 - lr: 0.0010\n",
            "Epoch 10/50\n",
            "17/17 [==============================] - 2s 148ms/step - loss: 0.3012 - accuracy: 0.8743 - val_loss: 0.6294 - val_accuracy: 0.6933 - lr: 0.0010\n",
            "Epoch 11/50\n",
            "17/17 [==============================] - 2s 147ms/step - loss: 0.2881 - accuracy: 0.8800 - val_loss: 0.6198 - val_accuracy: 0.6689 - lr: 0.0010\n",
            "Epoch 12/50\n",
            "17/17 [==============================] - 2s 139ms/step - loss: 0.2539 - accuracy: 0.8971 - val_loss: 0.6532 - val_accuracy: 0.5489 - lr: 0.0010\n",
            "Epoch 13/50\n",
            "17/17 [==============================] - 2s 139ms/step - loss: 0.2403 - accuracy: 0.9143 - val_loss: 0.5776 - val_accuracy: 0.6556 - lr: 0.0010\n",
            "Epoch 14/50\n",
            "17/17 [==============================] - 2s 139ms/step - loss: 0.2330 - accuracy: 0.9086 - val_loss: 0.5520 - val_accuracy: 0.7311 - lr: 0.0010\n",
            "Epoch 15/50\n",
            "17/17 [==============================] - 2s 138ms/step - loss: 0.2179 - accuracy: 0.9162 - val_loss: 0.6101 - val_accuracy: 0.5911 - lr: 0.0010\n",
            "Epoch 16/50\n",
            "17/17 [==============================] - 3s 149ms/step - loss: 0.2046 - accuracy: 0.9238 - val_loss: 0.5819 - val_accuracy: 0.6000 - lr: 0.0010\n",
            "Epoch 17/50\n",
            "17/17 [==============================] - 2s 139ms/step - loss: 0.1991 - accuracy: 0.9286 - val_loss: 0.4799 - val_accuracy: 0.7911 - lr: 0.0010\n",
            "Epoch 18/50\n",
            "17/17 [==============================] - 2s 147ms/step - loss: 0.1654 - accuracy: 0.9419 - val_loss: 0.4380 - val_accuracy: 0.8200 - lr: 0.0010\n",
            "Epoch 19/50\n",
            "17/17 [==============================] - 2s 148ms/step - loss: 0.1500 - accuracy: 0.9510 - val_loss: 0.3941 - val_accuracy: 0.8733 - lr: 0.0010\n",
            "Epoch 20/50\n",
            "17/17 [==============================] - 2s 139ms/step - loss: 0.1464 - accuracy: 0.9500 - val_loss: 0.4720 - val_accuracy: 0.7156 - lr: 0.0010\n",
            "Epoch 21/50\n",
            "17/17 [==============================] - 2s 148ms/step - loss: 0.1353 - accuracy: 0.9581 - val_loss: 0.3638 - val_accuracy: 0.8800 - lr: 0.0010\n",
            "Epoch 22/50\n",
            "17/17 [==============================] - 2s 148ms/step - loss: 0.1279 - accuracy: 0.9571 - val_loss: 0.3385 - val_accuracy: 0.8644 - lr: 0.0010\n",
            "Epoch 23/50\n",
            "17/17 [==============================] - 2s 147ms/step - loss: 0.1257 - accuracy: 0.9576 - val_loss: 0.3794 - val_accuracy: 0.8222 - lr: 0.0010\n",
            "Epoch 24/50\n",
            "17/17 [==============================] - 3s 148ms/step - loss: 0.1179 - accuracy: 0.9629 - val_loss: 0.2701 - val_accuracy: 0.9133 - lr: 0.0010\n",
            "Epoch 25/50\n",
            "17/17 [==============================] - 2s 142ms/step - loss: 0.1189 - accuracy: 0.9590 - val_loss: 0.2965 - val_accuracy: 0.8800 - lr: 0.0010\n",
            "Epoch 26/50\n",
            "17/17 [==============================] - 2s 140ms/step - loss: 0.1173 - accuracy: 0.9557 - val_loss: 0.3129 - val_accuracy: 0.8444 - lr: 0.0010\n",
            "Epoch 27/50\n",
            "17/17 [==============================] - 3s 160ms/step - loss: 0.1001 - accuracy: 0.9648 - val_loss: 0.3257 - val_accuracy: 0.8556 - lr: 0.0010\n",
            "Epoch 28/50\n",
            "17/17 [==============================] - 3s 152ms/step - loss: 0.0916 - accuracy: 0.9719 - val_loss: 0.2187 - val_accuracy: 0.9111 - lr: 0.0010\n",
            "Epoch 29/50\n",
            "17/17 [==============================] - 2s 140ms/step - loss: 0.0860 - accuracy: 0.9724 - val_loss: 0.2279 - val_accuracy: 0.9067 - lr: 0.0010\n",
            "Epoch 30/50\n",
            "17/17 [==============================] - 3s 149ms/step - loss: 0.0767 - accuracy: 0.9800 - val_loss: 0.1885 - val_accuracy: 0.9267 - lr: 0.0010\n",
            "Epoch 31/50\n",
            "17/17 [==============================] - 3s 157ms/step - loss: 0.0814 - accuracy: 0.9724 - val_loss: 0.2023 - val_accuracy: 0.9156 - lr: 0.0010\n",
            "Epoch 32/50\n",
            "17/17 [==============================] - 3s 163ms/step - loss: 0.0746 - accuracy: 0.9776 - val_loss: 0.1929 - val_accuracy: 0.9111 - lr: 0.0010\n",
            "Epoch 33/50\n",
            "17/17 [==============================] - 3s 148ms/step - loss: 0.0701 - accuracy: 0.9771 - val_loss: 0.1539 - val_accuracy: 0.9489 - lr: 0.0010\n",
            "Epoch 34/50\n",
            "17/17 [==============================] - 2s 141ms/step - loss: 0.0670 - accuracy: 0.9743 - val_loss: 0.1662 - val_accuracy: 0.9267 - lr: 0.0010\n",
            "Epoch 35/50\n",
            "17/17 [==============================] - 2s 140ms/step - loss: 0.0803 - accuracy: 0.9705 - val_loss: 0.1561 - val_accuracy: 0.9378 - lr: 0.0010\n",
            "Epoch 36/50\n",
            "17/17 [==============================] - 2s 148ms/step - loss: 0.0678 - accuracy: 0.9776 - val_loss: 0.1438 - val_accuracy: 0.9511 - lr: 0.0010\n",
            "Epoch 37/50\n",
            "17/17 [==============================] - 2s 148ms/step - loss: 0.0496 - accuracy: 0.9886 - val_loss: 0.1595 - val_accuracy: 0.9444 - lr: 0.0010\n",
            "Epoch 38/50\n",
            "17/17 [==============================] - 3s 150ms/step - loss: 0.0559 - accuracy: 0.9833 - val_loss: 0.1783 - val_accuracy: 0.9311 - lr: 0.0010\n",
            "Epoch 39/50\n",
            "17/17 [==============================] - 3s 149ms/step - loss: 0.0597 - accuracy: 0.9790 - val_loss: 0.1603 - val_accuracy: 0.9400 - lr: 0.0010\n",
            "Epoch 40/50\n",
            "17/17 [==============================] - 2s 139ms/step - loss: 0.0528 - accuracy: 0.9819 - val_loss: 0.3305 - val_accuracy: 0.8600 - lr: 0.0010\n",
            "Epoch 41/50\n",
            "17/17 [==============================] - 3s 148ms/step - loss: 0.0474 - accuracy: 0.9890 - val_loss: 0.1532 - val_accuracy: 0.9533 - lr: 0.0010\n",
            "Epoch 42/50\n",
            "17/17 [==============================] - 3s 149ms/step - loss: 0.0352 - accuracy: 0.9924 - val_loss: 0.1324 - val_accuracy: 0.9511 - lr: 0.0010\n",
            "Epoch 43/50\n",
            "17/17 [==============================] - 2s 139ms/step - loss: 0.0347 - accuracy: 0.9929 - val_loss: 0.1391 - val_accuracy: 0.9533 - lr: 0.0010\n",
            "Epoch 44/50\n",
            "17/17 [==============================] - 3s 148ms/step - loss: 0.0391 - accuracy: 0.9886 - val_loss: 0.1709 - val_accuracy: 0.9378 - lr: 0.0010\n",
            "Epoch 45/50\n",
            "17/17 [==============================] - 3s 148ms/step - loss: 0.0342 - accuracy: 0.9900 - val_loss: 0.1815 - val_accuracy: 0.9378 - lr: 0.0010\n",
            "Epoch 46/50\n",
            "17/17 [==============================] - 2s 148ms/step - loss: 0.0332 - accuracy: 0.9910 - val_loss: 0.1335 - val_accuracy: 0.9533 - lr: 0.0010\n",
            "Epoch 47/50\n",
            "17/17 [==============================] - 2s 148ms/step - loss: 0.0473 - accuracy: 0.9833 - val_loss: 0.2223 - val_accuracy: 0.9267 - lr: 0.0010\n",
            "Epoch 48/50\n",
            "17/17 [==============================] - 2s 148ms/step - loss: 0.0549 - accuracy: 0.9833 - val_loss: 0.2860 - val_accuracy: 0.8956 - lr: 0.0010\n",
            "Epoch 49/50\n",
            "17/17 [==============================] - 2s 140ms/step - loss: 0.0404 - accuracy: 0.9867 - val_loss: 0.1381 - val_accuracy: 0.9467 - lr: 0.0010\n",
            "Epoch 50/50\n",
            "17/17 [==============================] - 2s 140ms/step - loss: 0.0262 - accuracy: 0.9957 - val_loss: 0.1709 - val_accuracy: 0.9467 - lr: 0.0010\n"
          ]
        },
        {
          "output_type": "execute_result",
          "data": {
            "text/plain": [
              "<keras.callbacks.History at 0x7ff7765eaf10>"
            ]
          },
          "metadata": {},
          "execution_count": 36
        }
      ],
      "source": [
        "model.fit(x=X_train, y=y_train, batch_size=128, epochs=50, validation_data=(X_val, y_val), callbacks=[reduce_lr,tensorboard])"
      ]
    },
    {
      "cell_type": "markdown",
      "metadata": {
        "id": "b6TzLlx7VaAA"
      },
      "source": [
        "# SAVE THE MODEL TO GOOGLE DRIVE"
      ]
    },
    {
      "cell_type": "code",
      "execution_count": null,
      "metadata": {
        "id": "R51Oa6C_dD__"
      },
      "outputs": [],
      "source": [
        "from keras.models import load_model\n",
        "\n",
        "model.save('/content/drive/MyDrive/data/saved_model_latest_latest.h5')  # creates a HDF5 file 'my_model.h5' in ur google drive\n",
        "\n",
        "# model = tf.keras.models.load_model('/content/drive/MyDrive/data/saved_model_7_latest_tired.h5')\n"
      ]
    },
    {
      "cell_type": "code",
      "execution_count": null,
      "metadata": {
        "colab": {
          "base_uri": "https://localhost:8080/"
        },
        "id": "kWCtsg48LPUG",
        "outputId": "69cb1855-a900-4443-91ff-0c72cbd40b46"
      },
      "outputs": [
        {
          "output_type": "stream",
          "name": "stdout",
          "text": [
            "loss\n",
            "accuracy\n",
            "val_loss\n",
            "val_accuracy\n",
            "lr\n"
          ]
        }
      ],
      "source": [
        "history = model.history.history\n",
        "\n",
        "for key in history.keys():\n",
        "    print(key)"
      ]
    },
    {
      "cell_type": "markdown",
      "metadata": {
        "id": "Vd18HMa3VdQD"
      },
      "source": [
        "# PLOT EVALUATION METRICS"
      ]
    },
    {
      "cell_type": "code",
      "execution_count": null,
      "metadata": {
        "colab": {
          "base_uri": "https://localhost:8080/",
          "height": 545
        },
        "id": "sOGoIavILTyh",
        "outputId": "101e6440-c882-4918-add3-06d17599303b"
      },
      "outputs": [
        {
          "output_type": "display_data",
          "data": {
            "text/plain": [
              "<Figure size 432x288 with 1 Axes>"
            ],
            "image/png": "[encoded data removed]"
          },
          "metadata": {
            "needs_background": "light"
          }
        },
        {
          "output_type": "display_data",
          "data": {
            "text/plain": [
              "<Figure size 432x288 with 1 Axes>"
            ],
            "image/png": "[encoded data removed]"
          },
          "metadata": {
            "needs_background": "light"
          }
        }
      ],
      "source": [
        "def plot_metrics(history):\n",
        "\n",
        "    train_loss = history['loss']\n",
        "    val_loss = history['val_loss']\n",
        "    train_acc = history['accuracy']\n",
        "    val_acc = history['val_accuracy']\n",
        "\n",
        "    # Loss\n",
        "    plt.figure()\n",
        "    plt.plot(train_loss, label='Training Loss')\n",
        "    plt.plot(val_loss, label='Validation Loss')\n",
        "    plt.title('Loss')\n",
        "    plt.legend()\n",
        "    plt.show()\n",
        "\n",
        "    # Accuracy\n",
        "    plt.figure()\n",
        "    plt.plot(train_acc, label='Training Accuracy')\n",
        "    plt.plot(val_acc, label='Validation Accuracy')\n",
        "    plt.title('Accuracy')\n",
        "    plt.legend()\n",
        "    plt.show()\n",
        "\n",
        "\n",
        "\n",
        "\n",
        "plot_metrics(history)"
      ]
    },
    {
      "cell_type": "code",
      "execution_count": null,
      "metadata": {
        "colab": {
          "base_uri": "https://localhost:8080/"
        },
        "id": "_hY4E2_JLW7L",
        "outputId": "10fd96da-e8a8-4cd0-c386-b1c77c294425"
      },
      "outputs": [
        {
          "output_type": "execute_result",
          "data": {
            "text/plain": [
              "['loss', 'accuracy']"
            ]
          },
          "metadata": {},
          "execution_count": 40
        }
      ],
      "source": [
        "model.metrics_names\n"
      ]
    },
    {
      "cell_type": "markdown",
      "metadata": {
        "id": "YYvWz3FlVhHD"
      },
      "source": [
        "# EVALUATION ON VALIDATION DATA"
      ]
    },
    {
      "cell_type": "code",
      "execution_count": null,
      "metadata": {
        "colab": {
          "base_uri": "https://localhost:8080/"
        },
        "id": "MNEcMG_-LZOy",
        "outputId": "0d888b3b-dc3a-462c-f47c-5faff49416e8"
      },
      "outputs": [
        {
          "output_type": "stream",
          "name": "stdout",
          "text": [
            "15/15 [==============================] - 0s 17ms/step - loss: 0.1709 - accuracy: 0.9467\n"
          ]
        }
      ],
      "source": [
        "loss, acc = model.evaluate(x=X_val, y=y_val)\n"
      ]
    },
    {
      "cell_type": "code",
      "execution_count": null,
      "metadata": {
        "colab": {
          "base_uri": "https://localhost:8080/"
        },
        "id": "u_jXHxxULb6T",
        "outputId": "727ed6b1-855f-44d1-c8a5-90efd36bcef3"
      },
      "outputs": [
        {
          "output_type": "stream",
          "name": "stdout",
          "text": [
            "Test Loss = 0.17090381681919098\n",
            "Test Accuracy = 95.0%\n"
          ]
        }
      ],
      "source": [
        "print (\"Validation Loss = {}\".format(loss))\n",
        "print (\"Validation Accuracy = {}%\".format(np.around(acc*100)))"
      ]
    },
    {
      "cell_type": "markdown",
      "metadata": {
        "id": "jcRS9ZjcVkSN"
      },
      "source": [
        "# PREDICTIONS ON TESTING DATA"
      ]
    },
    {
      "cell_type": "code",
      "execution_count": null,
      "metadata": {
        "colab": {
          "base_uri": "https://localhost:8080/"
        },
        "id": "1ZjdVs3PLeS5",
        "outputId": "b9fa8ce4-c98e-47ec-be32-6f53cff201bc"
      },
      "outputs": [
        {
          "output_type": "stream",
          "name": "stdout",
          "text": [
            "15/15 [==============================] - 0s 19ms/step\n"
          ]
        },
        {
          "output_type": "execute_result",
          "data": {
            "text/plain": [
              "array([[9.99995232e-01],\n",
              "       [9.99998927e-01],\n",
              "       [9.99876142e-01],\n",
              "       [3.86198005e-03],\n",
              "       [2.28666812e-01],\n",
              "       [1.69701700e-03],\n",
              "       [9.99535680e-01],\n",
              "       [5.23973346e-01],\n",
              "       [9.99996543e-01],\n",
              "       [7.35136569e-01],\n",
              "       [1.00000000e+00],\n",
              "       [2.07449973e-01],\n",
              "       [2.55478197e-03],\n",
              "       [4.73368466e-01],\n",
              "       [9.99999285e-01],\n",
              "       [2.34448582e-01],\n",
              "       [1.00000000e+00],\n",
              "       [1.41010765e-04],\n",
              "       [3.11864773e-04],\n",
              "       [8.38490605e-01],\n",
              "       [1.28758714e-01],\n",
              "       [9.99609888e-01],\n",
              "       [9.99999642e-01],\n",
              "       [4.20451090e-02],\n",
              "       [9.99993086e-01],\n",
              "       [1.79256536e-02],\n",
              "       [9.87971842e-01],\n",
              "       [9.99892116e-01],\n",
              "       [1.00000000e+00],\n",
              "       [7.85024941e-01],\n",
              "       [6.20058971e-03],\n",
              "       [9.99947667e-01],\n",
              "       [1.79026164e-02],\n",
              "       [2.17568650e-05],\n",
              "       [9.25716519e-01],\n",
              "       [7.55661540e-03],\n",
              "       [8.57301950e-01],\n",
              "       [9.99963164e-01],\n",
              "       [9.98808742e-01],\n",
              "       [9.79866505e-01],\n",
              "       [7.49003366e-02],\n",
              "       [9.99895453e-01],\n",
              "       [9.99974012e-01],\n",
              "       [9.99390244e-01],\n",
              "       [1.86327249e-01],\n",
              "       [9.99999523e-01],\n",
              "       [1.13072872e-01],\n",
              "       [1.85192632e-03],\n",
              "       [9.99222875e-01],\n",
              "       [9.55466628e-01],\n",
              "       [9.99128282e-01],\n",
              "       [9.99907732e-01],\n",
              "       [9.99937177e-01],\n",
              "       [9.99674082e-01],\n",
              "       [9.99997616e-01],\n",
              "       [1.36416852e-02],\n",
              "       [6.01358749e-02],\n",
              "       [5.56241255e-04],\n",
              "       [6.21601008e-02],\n",
              "       [3.84438038e-03],\n",
              "       [2.93514337e-02],\n",
              "       [4.93504852e-02],\n",
              "       [9.98551190e-01],\n",
              "       [1.06527768e-02],\n",
              "       [9.99987841e-01],\n",
              "       [1.87772827e-03],\n",
              "       [9.99999881e-01],\n",
              "       [5.53059508e-04],\n",
              "       [6.28020108e-01],\n",
              "       [1.22901546e-02],\n",
              "       [9.99976039e-01],\n",
              "       [7.56656073e-06],\n",
              "       [6.59975708e-02],\n",
              "       [9.99988437e-01],\n",
              "       [8.89580231e-04],\n",
              "       [3.02312453e-03],\n",
              "       [9.97357190e-01],\n",
              "       [6.52477052e-03],\n",
              "       [9.99999523e-01],\n",
              "       [6.26831800e-02],\n",
              "       [7.81540573e-01],\n",
              "       [2.34050778e-04],\n",
              "       [9.99999285e-01],\n",
              "       [9.99134004e-01],\n",
              "       [2.67039780e-02],\n",
              "       [1.22062685e-02],\n",
              "       [9.99998331e-01],\n",
              "       [1.51361162e-02],\n",
              "       [1.83715892e-03],\n",
              "       [9.70752463e-02],\n",
              "       [9.98020411e-01],\n",
              "       [9.98708725e-01],\n",
              "       [2.24019401e-02],\n",
              "       [9.91202474e-01],\n",
              "       [1.55940175e-01],\n",
              "       [7.15550780e-01],\n",
              "       [1.99252173e-01],\n",
              "       [5.33625662e-01],\n",
              "       [9.99953389e-01],\n",
              "       [9.99999404e-01],\n",
              "       [9.08806920e-01],\n",
              "       [9.99992967e-01],\n",
              "       [9.99999046e-01],\n",
              "       [9.99074697e-01],\n",
              "       [9.99944925e-01],\n",
              "       [5.95337749e-01],\n",
              "       [9.16778576e-03],\n",
              "       [9.98442113e-01],\n",
              "       [2.36366645e-01],\n",
              "       [3.84064764e-02],\n",
              "       [9.99997854e-01],\n",
              "       [9.99368012e-01],\n",
              "       [9.96321797e-01],\n",
              "       [4.47771046e-03],\n",
              "       [1.00000000e+00],\n",
              "       [2.66809195e-01],\n",
              "       [9.99985099e-01],\n",
              "       [8.27331562e-03],\n",
              "       [4.60794894e-03],\n",
              "       [9.99752700e-01],\n",
              "       [9.91880119e-01],\n",
              "       [1.47139996e-01],\n",
              "       [2.93876976e-02],\n",
              "       [9.99999523e-01],\n",
              "       [9.99927402e-01],\n",
              "       [9.99722779e-01],\n",
              "       [1.73106696e-02],\n",
              "       [2.21933587e-04],\n",
              "       [1.47510087e-04],\n",
              "       [2.78511029e-02],\n",
              "       [1.26659346e-04],\n",
              "       [1.00000000e+00],\n",
              "       [9.86198127e-01],\n",
              "       [2.31419690e-03],\n",
              "       [9.20145512e-02],\n",
              "       [8.64239991e-01],\n",
              "       [9.99955893e-01],\n",
              "       [1.17437972e-03],\n",
              "       [9.98797774e-01],\n",
              "       [5.10547273e-02],\n",
              "       [5.09946514e-03],\n",
              "       [9.99911904e-01],\n",
              "       [3.10464911e-02],\n",
              "       [9.99941587e-01],\n",
              "       [9.99313474e-01],\n",
              "       [9.95468855e-01],\n",
              "       [9.99999762e-01],\n",
              "       [3.29571962e-02],\n",
              "       [8.07715714e-01],\n",
              "       [9.99952793e-01],\n",
              "       [2.13167742e-02],\n",
              "       [1.38504192e-01],\n",
              "       [9.99991655e-01],\n",
              "       [9.84919906e-01],\n",
              "       [9.97475207e-01],\n",
              "       [1.79209118e-03],\n",
              "       [6.99198544e-01],\n",
              "       [9.99999881e-01],\n",
              "       [5.74437028e-04],\n",
              "       [9.99552310e-01],\n",
              "       [8.75904709e-02],\n",
              "       [9.04132519e-03],\n",
              "       [9.99964356e-01],\n",
              "       [1.89246535e-01],\n",
              "       [9.99976158e-01],\n",
              "       [9.99980688e-01],\n",
              "       [1.81695428e-02],\n",
              "       [1.53607905e-01],\n",
              "       [2.88847871e-02],\n",
              "       [9.42452159e-03],\n",
              "       [1.46994404e-02],\n",
              "       [3.87397944e-03],\n",
              "       [9.99999881e-01],\n",
              "       [9.04547996e-05],\n",
              "       [9.18898523e-01],\n",
              "       [9.70351040e-01],\n",
              "       [9.77737784e-01],\n",
              "       [9.99964833e-01],\n",
              "       [2.58478336e-03],\n",
              "       [9.81650949e-01],\n",
              "       [9.98849630e-01],\n",
              "       [9.99954820e-01],\n",
              "       [9.99963045e-01],\n",
              "       [4.63055307e-03],\n",
              "       [2.54653066e-01],\n",
              "       [9.98899937e-01],\n",
              "       [1.61681313e-03],\n",
              "       [9.99999881e-01],\n",
              "       [1.76471584e-02],\n",
              "       [1.14342710e-02],\n",
              "       [9.99965906e-01],\n",
              "       [2.99469084e-02],\n",
              "       [9.99999046e-01],\n",
              "       [4.09066502e-04],\n",
              "       [9.91242647e-01],\n",
              "       [9.99999523e-01],\n",
              "       [1.71006584e-04],\n",
              "       [2.80205216e-02],\n",
              "       [9.99991417e-01],\n",
              "       [1.00000000e+00],\n",
              "       [9.99204218e-01],\n",
              "       [6.58102632e-01],\n",
              "       [9.89827752e-01],\n",
              "       [9.50896263e-01],\n",
              "       [8.65962863e-01],\n",
              "       [9.99973655e-01],\n",
              "       [2.85379648e-01],\n",
              "       [2.03052512e-03],\n",
              "       [9.99999762e-01],\n",
              "       [7.00685987e-03],\n",
              "       [9.99997616e-01],\n",
              "       [1.82281695e-02],\n",
              "       [7.96163797e-01],\n",
              "       [2.11512761e-05],\n",
              "       [9.06740222e-03],\n",
              "       [1.82281956e-01],\n",
              "       [9.99615073e-01],\n",
              "       [1.75119162e-01],\n",
              "       [8.78510833e-01],\n",
              "       [2.28939698e-05],\n",
              "       [9.99988556e-01],\n",
              "       [8.52696190e-04],\n",
              "       [6.31547868e-01],\n",
              "       [2.77391598e-02],\n",
              "       [9.99240398e-01],\n",
              "       [9.03246924e-02],\n",
              "       [9.99999523e-01],\n",
              "       [7.26847723e-02],\n",
              "       [1.25401299e-02],\n",
              "       [5.47028072e-02],\n",
              "       [2.29232416e-01],\n",
              "       [9.99988556e-01],\n",
              "       [9.99999285e-01],\n",
              "       [8.55549350e-02],\n",
              "       [9.71531942e-02],\n",
              "       [9.94624078e-01],\n",
              "       [9.99924064e-01],\n",
              "       [9.99435127e-01],\n",
              "       [1.71200151e-03],\n",
              "       [3.32645373e-03],\n",
              "       [7.63831194e-05],\n",
              "       [1.00000000e+00],\n",
              "       [9.99966383e-01],\n",
              "       [4.01314785e-04],\n",
              "       [1.47207621e-02],\n",
              "       [9.51209068e-01],\n",
              "       [6.76975353e-03],\n",
              "       [1.43198151e-04],\n",
              "       [1.49057723e-06],\n",
              "       [7.05272052e-03],\n",
              "       [9.74583328e-01],\n",
              "       [9.96940017e-01],\n",
              "       [9.98656631e-01],\n",
              "       [9.99999762e-01],\n",
              "       [2.73787022e-01],\n",
              "       [9.99578297e-01],\n",
              "       [9.99999523e-01],\n",
              "       [9.53458190e-01],\n",
              "       [2.71639158e-03],\n",
              "       [2.78961321e-04],\n",
              "       [9.99991655e-01],\n",
              "       [8.40386510e-01],\n",
              "       [9.99852180e-01],\n",
              "       [9.99998450e-01],\n",
              "       [9.99991775e-01],\n",
              "       [3.56780132e-04],\n",
              "       [1.56829905e-04],\n",
              "       [1.03949978e-05],\n",
              "       [6.31267176e-05],\n",
              "       [9.88237202e-01],\n",
              "       [7.83659890e-02],\n",
              "       [4.27408901e-04],\n",
              "       [9.99883652e-01],\n",
              "       [9.99999642e-01],\n",
              "       [9.97649848e-01],\n",
              "       [7.48867542e-02],\n",
              "       [4.95602757e-01],\n",
              "       [4.04159948e-02],\n",
              "       [4.56491532e-03],\n",
              "       [2.93059237e-02],\n",
              "       [9.95438159e-01],\n",
              "       [1.52187850e-02],\n",
              "       [5.46490587e-03],\n",
              "       [9.99997377e-01],\n",
              "       [2.27544941e-02],\n",
              "       [9.15597498e-01],\n",
              "       [9.99375522e-01],\n",
              "       [9.99927044e-01],\n",
              "       [9.99964833e-01],\n",
              "       [3.50392945e-02],\n",
              "       [3.36836878e-04],\n",
              "       [9.99936223e-01],\n",
              "       [9.35346663e-01],\n",
              "       [9.99913812e-01],\n",
              "       [5.18872868e-04],\n",
              "       [1.04245800e-03],\n",
              "       [9.90359664e-01],\n",
              "       [9.99867558e-01],\n",
              "       [1.00000000e+00],\n",
              "       [1.00000000e+00],\n",
              "       [1.21401884e-01],\n",
              "       [9.87632275e-01],\n",
              "       [9.99938369e-01],\n",
              "       [1.00000000e+00],\n",
              "       [9.99318242e-01],\n",
              "       [9.99220967e-01],\n",
              "       [2.72968560e-01],\n",
              "       [9.99998808e-01],\n",
              "       [3.91821726e-04],\n",
              "       [1.00000000e+00],\n",
              "       [3.98663804e-02],\n",
              "       [1.19897919e-02],\n",
              "       [9.99990702e-01],\n",
              "       [3.30356508e-02],\n",
              "       [9.99737322e-01],\n",
              "       [9.99970794e-01],\n",
              "       [7.07676308e-03],\n",
              "       [3.38990867e-01],\n",
              "       [9.97408807e-01],\n",
              "       [9.95141506e-01],\n",
              "       [9.99997735e-01],\n",
              "       [9.99892831e-01],\n",
              "       [2.97522396e-02],\n",
              "       [6.36103912e-04],\n",
              "       [9.14721750e-04],\n",
              "       [9.99239802e-01],\n",
              "       [8.78747776e-02],\n",
              "       [1.00000000e+00],\n",
              "       [9.82668221e-01],\n",
              "       [2.98238602e-02],\n",
              "       [2.52105612e-02],\n",
              "       [9.99369800e-01],\n",
              "       [9.96546209e-01],\n",
              "       [8.27949122e-03],\n",
              "       [9.99936700e-01],\n",
              "       [5.67285061e-01],\n",
              "       [9.99993443e-01],\n",
              "       [9.75149810e-01],\n",
              "       [9.99345124e-01],\n",
              "       [6.99811382e-03],\n",
              "       [4.23337799e-03],\n",
              "       [2.37450073e-03],\n",
              "       [1.48475980e-02],\n",
              "       [9.99898791e-01],\n",
              "       [5.26824117e-01],\n",
              "       [2.80065626e-01],\n",
              "       [1.68516010e-01],\n",
              "       [9.96759355e-01],\n",
              "       [6.43677590e-03],\n",
              "       [1.10833347e-01],\n",
              "       [9.99996543e-01],\n",
              "       [9.99840498e-01],\n",
              "       [9.95686412e-01],\n",
              "       [2.59362627e-03],\n",
              "       [2.09920341e-03],\n",
              "       [9.99993682e-01],\n",
              "       [9.63183062e-04],\n",
              "       [9.79092181e-01],\n",
              "       [9.99960899e-01],\n",
              "       [9.99998927e-01],\n",
              "       [2.88806688e-02],\n",
              "       [9.98921394e-01],\n",
              "       [9.95313644e-01],\n",
              "       [8.86490524e-01],\n",
              "       [2.49345641e-04],\n",
              "       [9.99481618e-01],\n",
              "       [1.06884569e-01],\n",
              "       [9.99995112e-01],\n",
              "       [5.66915274e-02],\n",
              "       [1.00000000e+00],\n",
              "       [9.92468536e-01],\n",
              "       [1.71580166e-01],\n",
              "       [9.98451471e-01],\n",
              "       [7.20770983e-03],\n",
              "       [9.94303584e-01],\n",
              "       [6.10505104e-01],\n",
              "       [4.43142932e-03],\n",
              "       [8.51779361e-04],\n",
              "       [2.78282678e-05],\n",
              "       [9.97768998e-01],\n",
              "       [9.99913096e-01],\n",
              "       [4.86370921e-03],\n",
              "       [6.46517365e-05],\n",
              "       [9.99723375e-01],\n",
              "       [9.94287670e-01],\n",
              "       [1.00000000e+00],\n",
              "       [1.00000000e+00],\n",
              "       [1.59612641e-01],\n",
              "       [9.99976873e-01],\n",
              "       [9.01375890e-01],\n",
              "       [4.95202327e-03],\n",
              "       [3.39737236e-02],\n",
              "       [3.57189192e-03],\n",
              "       [9.99981523e-01],\n",
              "       [1.01066697e-04],\n",
              "       [9.92741108e-01],\n",
              "       [9.98966217e-01],\n",
              "       [9.99814093e-01],\n",
              "       [9.99978065e-01],\n",
              "       [9.97694552e-01],\n",
              "       [8.92274082e-03],\n",
              "       [7.30872038e-04],\n",
              "       [9.30043112e-04],\n",
              "       [9.56488214e-03],\n",
              "       [9.99992013e-01],\n",
              "       [9.98269439e-01],\n",
              "       [3.11952061e-03],\n",
              "       [9.99999523e-01],\n",
              "       [9.67912495e-01],\n",
              "       [9.99985814e-01],\n",
              "       [9.99970794e-01],\n",
              "       [4.23975434e-04],\n",
              "       [7.29341246e-03],\n",
              "       [9.95346010e-01],\n",
              "       [1.53813453e-03],\n",
              "       [9.97457683e-01],\n",
              "       [9.99996424e-01],\n",
              "       [9.97931123e-01],\n",
              "       [4.03359439e-03],\n",
              "       [2.08273903e-03],\n",
              "       [7.02584624e-01],\n",
              "       [8.27872369e-04],\n",
              "       [5.31321457e-05],\n",
              "       [3.27983834e-02],\n",
              "       [5.23284660e-04],\n",
              "       [9.99936342e-01],\n",
              "       [9.98057544e-01],\n",
              "       [9.99775589e-01],\n",
              "       [4.12465520e-02],\n",
              "       [1.00000000e+00],\n",
              "       [4.37096983e-01],\n",
              "       [9.99999762e-01],\n",
              "       [2.40517363e-01],\n",
              "       [9.70305467e-04],\n",
              "       [9.99987960e-01],\n",
              "       [6.64397283e-03],\n",
              "       [5.27398894e-03],\n",
              "       [6.10289280e-05],\n",
              "       [9.94275324e-03],\n",
              "       [1.76347364e-02],\n",
              "       [2.77809352e-01],\n",
              "       [1.97748438e-01],\n",
              "       [8.12734544e-01],\n",
              "       [1.25629660e-02],\n",
              "       [6.74157441e-02],\n",
              "       [9.33317661e-01],\n",
              "       [4.37850598e-03],\n",
              "       [9.99999642e-01],\n",
              "       [1.37061641e-01],\n",
              "       [9.99929786e-01]], dtype=float32)"
            ]
          },
          "metadata": {},
          "execution_count": 50
        }
      ],
      "source": [
        "y_test_prob = model.predict(X_test)\n",
        "y_test_prob"
      ]
    },
    {
      "cell_type": "code",
      "execution_count": null,
      "metadata": {
        "id": "Vi1lIWgNBxn0",
        "colab": {
          "base_uri": "https://localhost:8080/"
        },
        "outputId": "c65a3b7f-e109-47f9-e6bf-bae9219fd6cf"
      },
      "outputs": [
        {
          "output_type": "execute_result",
          "data": {
            "text/plain": [
              "array([[1.],\n",
              "       [1.],\n",
              "       [1.],\n",
              "       [0.],\n",
              "       [0.],\n",
              "       [0.],\n",
              "       [1.],\n",
              "       [1.],\n",
              "       [1.],\n",
              "       [1.],\n",
              "       [1.],\n",
              "       [0.],\n",
              "       [0.],\n",
              "       [0.],\n",
              "       [1.],\n",
              "       [0.],\n",
              "       [1.],\n",
              "       [0.],\n",
              "       [0.],\n",
              "       [1.],\n",
              "       [0.],\n",
              "       [1.],\n",
              "       [1.],\n",
              "       [0.],\n",
              "       [1.],\n",
              "       [0.],\n",
              "       [1.],\n",
              "       [1.],\n",
              "       [1.],\n",
              "       [1.],\n",
              "       [0.],\n",
              "       [1.],\n",
              "       [0.],\n",
              "       [0.],\n",
              "       [1.],\n",
              "       [0.],\n",
              "       [1.],\n",
              "       [1.],\n",
              "       [1.],\n",
              "       [1.],\n",
              "       [0.],\n",
              "       [1.],\n",
              "       [1.],\n",
              "       [1.],\n",
              "       [0.],\n",
              "       [1.],\n",
              "       [0.],\n",
              "       [0.],\n",
              "       [1.],\n",
              "       [1.],\n",
              "       [1.],\n",
              "       [1.],\n",
              "       [1.],\n",
              "       [1.],\n",
              "       [1.],\n",
              "       [0.],\n",
              "       [0.],\n",
              "       [0.],\n",
              "       [0.],\n",
              "       [0.],\n",
              "       [0.],\n",
              "       [0.],\n",
              "       [1.],\n",
              "       [0.],\n",
              "       [1.],\n",
              "       [0.],\n",
              "       [1.],\n",
              "       [0.],\n",
              "       [1.],\n",
              "       [0.],\n",
              "       [1.],\n",
              "       [0.],\n",
              "       [0.],\n",
              "       [1.],\n",
              "       [0.],\n",
              "       [0.],\n",
              "       [1.],\n",
              "       [0.],\n",
              "       [1.],\n",
              "       [0.],\n",
              "       [1.],\n",
              "       [0.],\n",
              "       [1.],\n",
              "       [1.],\n",
              "       [0.],\n",
              "       [0.],\n",
              "       [1.],\n",
              "       [0.],\n",
              "       [0.],\n",
              "       [0.],\n",
              "       [1.],\n",
              "       [1.],\n",
              "       [0.],\n",
              "       [1.],\n",
              "       [0.],\n",
              "       [1.],\n",
              "       [0.],\n",
              "       [1.],\n",
              "       [1.],\n",
              "       [1.],\n",
              "       [1.],\n",
              "       [1.],\n",
              "       [1.],\n",
              "       [1.],\n",
              "       [1.],\n",
              "       [1.],\n",
              "       [0.],\n",
              "       [1.],\n",
              "       [0.],\n",
              "       [0.],\n",
              "       [1.],\n",
              "       [1.],\n",
              "       [1.],\n",
              "       [0.],\n",
              "       [1.],\n",
              "       [0.],\n",
              "       [1.],\n",
              "       [0.],\n",
              "       [0.],\n",
              "       [1.],\n",
              "       [1.],\n",
              "       [0.],\n",
              "       [0.],\n",
              "       [1.],\n",
              "       [1.],\n",
              "       [1.],\n",
              "       [0.],\n",
              "       [0.],\n",
              "       [0.],\n",
              "       [0.],\n",
              "       [0.],\n",
              "       [1.],\n",
              "       [1.],\n",
              "       [0.],\n",
              "       [0.],\n",
              "       [1.],\n",
              "       [1.],\n",
              "       [0.],\n",
              "       [1.],\n",
              "       [0.],\n",
              "       [0.],\n",
              "       [1.],\n",
              "       [0.],\n",
              "       [1.],\n",
              "       [1.],\n",
              "       [1.],\n",
              "       [1.],\n",
              "       [0.],\n",
              "       [1.],\n",
              "       [1.],\n",
              "       [0.],\n",
              "       [0.],\n",
              "       [1.],\n",
              "       [1.],\n",
              "       [1.],\n",
              "       [0.],\n",
              "       [1.],\n",
              "       [1.],\n",
              "       [0.],\n",
              "       [1.],\n",
              "       [0.],\n",
              "       [0.],\n",
              "       [1.],\n",
              "       [0.],\n",
              "       [1.],\n",
              "       [1.],\n",
              "       [0.],\n",
              "       [0.],\n",
              "       [0.],\n",
              "       [0.],\n",
              "       [0.],\n",
              "       [0.],\n",
              "       [1.],\n",
              "       [0.],\n",
              "       [1.],\n",
              "       [1.],\n",
              "       [1.],\n",
              "       [1.],\n",
              "       [0.],\n",
              "       [1.],\n",
              "       [1.],\n",
              "       [1.],\n",
              "       [1.],\n",
              "       [0.],\n",
              "       [0.],\n",
              "       [1.],\n",
              "       [0.],\n",
              "       [1.],\n",
              "       [0.],\n",
              "       [0.],\n",
              "       [1.],\n",
              "       [0.],\n",
              "       [1.],\n",
              "       [0.],\n",
              "       [1.],\n",
              "       [1.],\n",
              "       [0.],\n",
              "       [0.],\n",
              "       [1.],\n",
              "       [1.],\n",
              "       [1.],\n",
              "       [1.],\n",
              "       [1.],\n",
              "       [1.],\n",
              "       [1.],\n",
              "       [1.],\n",
              "       [0.],\n",
              "       [0.],\n",
              "       [1.],\n",
              "       [0.],\n",
              "       [1.],\n",
              "       [0.],\n",
              "       [1.],\n",
              "       [0.],\n",
              "       [0.],\n",
              "       [0.],\n",
              "       [1.],\n",
              "       [0.],\n",
              "       [1.],\n",
              "       [0.],\n",
              "       [1.],\n",
              "       [0.],\n",
              "       [1.],\n",
              "       [0.],\n",
              "       [1.],\n",
              "       [0.],\n",
              "       [1.],\n",
              "       [0.],\n",
              "       [0.],\n",
              "       [0.],\n",
              "       [0.],\n",
              "       [1.],\n",
              "       [1.],\n",
              "       [0.],\n",
              "       [0.],\n",
              "       [1.],\n",
              "       [1.],\n",
              "       [1.],\n",
              "       [0.],\n",
              "       [0.],\n",
              "       [0.],\n",
              "       [1.],\n",
              "       [1.],\n",
              "       [0.],\n",
              "       [0.],\n",
              "       [1.],\n",
              "       [0.],\n",
              "       [0.],\n",
              "       [0.],\n",
              "       [0.],\n",
              "       [1.],\n",
              "       [1.],\n",
              "       [1.],\n",
              "       [1.],\n",
              "       [0.],\n",
              "       [1.],\n",
              "       [1.],\n",
              "       [1.],\n",
              "       [0.],\n",
              "       [0.],\n",
              "       [1.],\n",
              "       [1.],\n",
              "       [1.],\n",
              "       [1.],\n",
              "       [1.],\n",
              "       [0.],\n",
              "       [0.],\n",
              "       [0.],\n",
              "       [0.],\n",
              "       [1.],\n",
              "       [0.],\n",
              "       [0.],\n",
              "       [1.],\n",
              "       [1.],\n",
              "       [1.],\n",
              "       [0.],\n",
              "       [0.],\n",
              "       [0.],\n",
              "       [0.],\n",
              "       [0.],\n",
              "       [1.],\n",
              "       [0.],\n",
              "       [0.],\n",
              "       [1.],\n",
              "       [0.],\n",
              "       [1.],\n",
              "       [1.],\n",
              "       [1.],\n",
              "       [1.],\n",
              "       [0.],\n",
              "       [0.],\n",
              "       [1.],\n",
              "       [1.],\n",
              "       [1.],\n",
              "       [0.],\n",
              "       [0.],\n",
              "       [1.],\n",
              "       [1.],\n",
              "       [1.],\n",
              "       [1.],\n",
              "       [0.],\n",
              "       [1.],\n",
              "       [1.],\n",
              "       [1.],\n",
              "       [1.],\n",
              "       [1.],\n",
              "       [0.],\n",
              "       [1.],\n",
              "       [0.],\n",
              "       [1.],\n",
              "       [0.],\n",
              "       [0.],\n",
              "       [1.],\n",
              "       [0.],\n",
              "       [1.],\n",
              "       [1.],\n",
              "       [0.],\n",
              "       [0.],\n",
              "       [1.],\n",
              "       [1.],\n",
              "       [1.],\n",
              "       [1.],\n",
              "       [0.],\n",
              "       [0.],\n",
              "       [0.],\n",
              "       [1.],\n",
              "       [0.],\n",
              "       [1.],\n",
              "       [1.],\n",
              "       [0.],\n",
              "       [0.],\n",
              "       [1.],\n",
              "       [1.],\n",
              "       [0.],\n",
              "       [1.],\n",
              "       [1.],\n",
              "       [1.],\n",
              "       [1.],\n",
              "       [1.],\n",
              "       [0.],\n",
              "       [0.],\n",
              "       [0.],\n",
              "       [0.],\n",
              "       [1.],\n",
              "       [1.],\n",
              "       [0.],\n",
              "       [0.],\n",
              "       [1.],\n",
              "       [0.],\n",
              "       [0.],\n",
              "       [1.],\n",
              "       [1.],\n",
              "       [1.],\n",
              "       [0.],\n",
              "       [0.],\n",
              "       [1.],\n",
              "       [0.],\n",
              "       [1.],\n",
              "       [1.],\n",
              "       [1.],\n",
              "       [0.],\n",
              "       [1.],\n",
              "       [1.],\n",
              "       [1.],\n",
              "       [0.],\n",
              "       [1.],\n",
              "       [0.],\n",
              "       [1.],\n",
              "       [0.],\n",
              "       [1.],\n",
              "       [1.],\n",
              "       [0.],\n",
              "       [1.],\n",
              "       [0.],\n",
              "       [1.],\n",
              "       [1.],\n",
              "       [0.],\n",
              "       [0.],\n",
              "       [0.],\n",
              "       [1.],\n",
              "       [1.],\n",
              "       [0.],\n",
              "       [0.],\n",
              "       [1.],\n",
              "       [1.],\n",
              "       [1.],\n",
              "       [1.],\n",
              "       [0.],\n",
              "       [1.],\n",
              "       [1.],\n",
              "       [0.],\n",
              "       [0.],\n",
              "       [0.],\n",
              "       [1.],\n",
              "       [0.],\n",
              "       [1.],\n",
              "       [1.],\n",
              "       [1.],\n",
              "       [1.],\n",
              "       [1.],\n",
              "       [0.],\n",
              "       [0.],\n",
              "       [0.],\n",
              "       [0.],\n",
              "       [1.],\n",
              "       [1.],\n",
              "       [0.],\n",
              "       [1.],\n",
              "       [1.],\n",
              "       [1.],\n",
              "       [1.],\n",
              "       [0.],\n",
              "       [0.],\n",
              "       [1.],\n",
              "       [0.],\n",
              "       [1.],\n",
              "       [1.],\n",
              "       [1.],\n",
              "       [0.],\n",
              "       [0.],\n",
              "       [1.],\n",
              "       [0.],\n",
              "       [0.],\n",
              "       [0.],\n",
              "       [0.],\n",
              "       [1.],\n",
              "       [1.],\n",
              "       [1.],\n",
              "       [0.],\n",
              "       [1.],\n",
              "       [0.],\n",
              "       [1.],\n",
              "       [0.],\n",
              "       [0.],\n",
              "       [1.],\n",
              "       [0.],\n",
              "       [0.],\n",
              "       [0.],\n",
              "       [0.],\n",
              "       [0.],\n",
              "       [0.],\n",
              "       [0.],\n",
              "       [1.],\n",
              "       [0.],\n",
              "       [0.],\n",
              "       [1.],\n",
              "       [0.],\n",
              "       [1.],\n",
              "       [0.],\n",
              "       [1.]], dtype=float32)"
            ]
          },
          "metadata": {},
          "execution_count": 51
        }
      ],
      "source": [
        "y_test_hat_rounded = np.around(y_test_prob)   # this would convert [0.87, 0.13] to [1., 0.]\n",
        "y_test_hat_rounded"
      ]
    },
    {
      "cell_type": "markdown",
      "metadata": {
        "id": "Rx1uzUeAVm5x"
      },
      "source": [
        "# F1-SCORE ON TESTING DATA"
      ]
    },
    {
      "cell_type": "code",
      "execution_count": null,
      "metadata": {
        "id": "dKrhNUZpLhBo"
      },
      "outputs": [],
      "source": [
        "f1score = compute_f1_score(y_test, y_test_hat_rounded)\n"
      ]
    },
    {
      "cell_type": "code",
      "execution_count": null,
      "metadata": {
        "colab": {
          "base_uri": "https://localhost:8080/"
        },
        "id": "LHtRRvTg-_s3",
        "outputId": "1a1c645a-5eee-4def-c106-fc4495249ba0"
      },
      "outputs": [
        {
          "output_type": "execute_result",
          "data": {
            "text/plain": [
              "0.9478260869565217"
            ]
          },
          "metadata": {},
          "execution_count": 55
        }
      ],
      "source": [
        "f1score"
      ]
    },
    {
      "cell_type": "markdown",
      "source": [
        "# GENERAL INFO ABOUT THE DATASET"
      ],
      "metadata": {
        "id": "Db_qGF8adFn_"
      }
    },
    {
      "cell_type": "code",
      "execution_count": null,
      "metadata": {
        "id": "faPhp7SSLpgC"
      },
      "outputs": [],
      "source": [
        "def data_percentage(y):\n",
        "\n",
        "    m=len(y)\n",
        "    n_positive = np.sum(y)\n",
        "    n_negative = m - n_positive\n",
        "\n",
        "    pos_prec = (n_positive* 100.0)/ m\n",
        "    neg_prec = (n_negative* 100.0)/ m\n",
        "\n",
        "    print(\"Number of examples:{}\".format(m))\n",
        "    print(\"Percentage of positive examples: {}%, number of pos examples: {}\".format(pos_prec,n_positive))\n",
        "    print(\"Percentage of negative examples: {}%, number of neg examples: {}\".format(neg_prec,n_negative))"
      ]
    },
    {
      "cell_type": "code",
      "execution_count": null,
      "metadata": {
        "id": "mw6LdnvYb6XN",
        "colab": {
          "base_uri": "https://localhost:8080/"
        },
        "outputId": "06e0256f-496a-4ae0-b364-03acac3e676b"
      },
      "outputs": [
        {
          "output_type": "stream",
          "name": "stdout",
          "text": [
            "Number of examples:3000\n",
            "Percentage of positive examples: 50.0%, number of pos examples: 1500\n",
            "Percentage of negative examples: 50.0%, number of neg examples: 1500\n"
          ]
        }
      ],
      "source": [
        "y = np.concatenate((y_train, y_test, y_val), axis=0)\n",
        "data_percentage(y)"
      ]
    },
    {
      "cell_type": "code",
      "execution_count": null,
      "metadata": {
        "colab": {
          "base_uri": "https://localhost:8080/"
        },
        "id": "I0AaBtYcLw4O",
        "outputId": "d97872cf-166b-4b11-deda-b656bf3db11d"
      },
      "outputs": [
        {
          "output_type": "stream",
          "name": "stdout",
          "text": [
            "Training Data:\n",
            "Number of examples:2100\n",
            "Percentage of positive examples: 49.904761904761905%, number of pos examples: 1048\n",
            "Percentage of negative examples: 50.095238095238095%, number of neg examples: 1052\n",
            "Validation Data:\n",
            "Number of examples:450\n",
            "Percentage of positive examples: 51.55555555555556%, number of pos examples: 232\n",
            "Percentage of negative examples: 48.44444444444444%, number of neg examples: 218\n",
            "Testing Data:\n",
            "Number of examples:450\n",
            "Percentage of positive examples: 48.888888888888886%, number of pos examples: 220\n",
            "Percentage of negative examples: 51.111111111111114%, number of neg examples: 230\n"
          ]
        }
      ],
      "source": [
        "print(\"Training Data:\")\n",
        "data_percentage(y_train)\n",
        "print(\"Validation Data:\")\n",
        "data_percentage(y_val)\n",
        "print(\"Testing Data:\")\n",
        "data_percentage(y_test)"
      ]
    },
    {
      "cell_type": "code",
      "execution_count": null,
      "metadata": {
        "id": "w9JeyKBIcaJE"
      },
      "outputs": [],
      "source": []
    },
    {
      "cell_type": "markdown",
      "metadata": {
        "id": "ib2cgJb36tie"
      },
      "source": [
        "# MAKING PREDICTIONS ON IMAGES"
      ]
    },
    {
      "cell_type": "markdown",
      "metadata": {
        "id": "fsEKktjO6xJu"
      },
      "source": [
        "**Let us upload an image, plot it, examine it, and convert it to a numpy array.**"
      ]
    },
    {
      "cell_type": "code",
      "execution_count": null,
      "metadata": {
        "colab": {
          "base_uri": "https://localhost:8080/",
          "height": 72
        },
        "id": "Tdh0H3od6vrA",
        "outputId": "59422b9e-1e75-44ef-efaa-40de6fee632f"
      },
      "outputs": [
        {
          "output_type": "display_data",
          "data": {
            "text/plain": [
              "<IPython.core.display.HTML object>"
            ],
            "text/html": [
              "\n",
              "     <input type=\"file\" id=\"files-3a24e2ab-ae9a-4ab9-8a89-199b80cafbbc\" name=\"files[]\" multiple disabled\n",
              "        style=\"border:none\" />\n",
              "     <output id=\"result-3a24e2ab-ae9a-4ab9-8a89-199b80cafbbc\">\n",
              "      Upload widget is only available when the cell has been executed in the\n",
              "      current browser session. Please rerun this cell to enable.\n",
              "      </output>\n",
              "      <script>// Copyright 2017 Google LLC\n",
              "//\n",
              "// Licensed under the Apache License, Version 2.0 (the \"License\");\n",
              "// you may not use this file except in compliance with the License.\n",
              "// You may obtain a copy of the License at\n",
              "//\n",
              "//      http://www.apache.org/licenses/LICENSE-2.0\n",
              "//\n",
              "// Unless required by applicable law or agreed to in writing, software\n",
              "// distributed under the License is distributed on an \"AS IS\" BASIS,\n",
              "// WITHOUT WARRANTIES OR CONDITIONS OF ANY KIND, either express or implied.\n",
              "// See the License for the specific language governing permissions and\n",
              "// limitations under the License.\n",
              "\n",
              "/**\n",
              " * @fileoverview Helpers for google.colab Python module.\n",
              " */\n",
              "(function(scope) {\n",
              "function span(text, styleAttributes = {}) {\n",
              "  const element = document.createElement('span');\n",
              "  element.textContent = text;\n",
              "  for (const key of Object.keys(styleAttributes)) {\n",
              "    element.style[key] = styleAttributes[key];\n",
              "  }\n",
              "  return element;\n",
              "}\n",
              "\n",
              "// Max number of bytes which will be uploaded at a time.\n",
              "const MAX_PAYLOAD_SIZE = 100 * 1024;\n",
              "\n",
              "function _uploadFiles(inputId, outputId) {\n",
              "  const steps = uploadFilesStep(inputId, outputId);\n",
              "  const outputElement = document.getElementById(outputId);\n",
              "  // Cache steps on the outputElement to make it available for the next call\n",
              "  // to uploadFilesContinue from Python.\n",
              "  outputElement.steps = steps;\n",
              "\n",
              "  return _uploadFilesContinue(outputId);\n",
              "}\n",
              "\n",
              "// This is roughly an async generator (not supported in the browser yet),\n",
              "// where there are multiple asynchronous steps and the Python side is going\n",
              "// to poll for completion of each step.\n",
              "// This uses a Promise to block the python side on completion of each step,\n",
              "// then passes the result of the previous step as the input to the next step.\n",
              "function _uploadFilesContinue(outputId) {\n",
              "  const outputElement = document.getElementById(outputId);\n",
              "  const steps = outputElement.steps;\n",
              "\n",
              "  const next = steps.next(outputElement.lastPromiseValue);\n",
              "  return Promise.resolve(next.value.promise).then((value) => {\n",
              "    // Cache the last promise value to make it available to the next\n",
              "    // step of the generator.\n",
              "    outputElement.lastPromiseValue = value;\n",
              "    return next.value.response;\n",
              "  });\n",
              "}\n",
              "\n",
              "/**\n",
              " * Generator function which is called between each async step of the upload\n",
              " * process.\n",
              " * @param {string} inputId Element ID of the input file picker element.\n",
              " * @param {string} outputId Element ID of the output display.\n",
              " * @return {!Iterable<!Object>} Iterable of next steps.\n",
              " */\n",
              "function* uploadFilesStep(inputId, outputId) {\n",
              "  const inputElement = document.getElementById(inputId);\n",
              "  inputElement.disabled = false;\n",
              "\n",
              "  const outputElement = document.getElementById(outputId);\n",
              "  outputElement.innerHTML = '';\n",
              "\n",
              "  const pickedPromise = new Promise((resolve) => {\n",
              "    inputElement.addEventListener('change', (e) => {\n",
              "      resolve(e.target.files);\n",
              "    });\n",
              "  });\n",
              "\n",
              "  const cancel = document.createElement('button');\n",
              "  inputElement.parentElement.appendChild(cancel);\n",
              "  cancel.textContent = 'Cancel upload';\n",
              "  const cancelPromise = new Promise((resolve) => {\n",
              "    cancel.onclick = () => {\n",
              "      resolve(null);\n",
              "    };\n",
              "  });\n",
              "\n",
              "  // Wait for the user to pick the files.\n",
              "  const files = yield {\n",
              "    promise: Promise.race([pickedPromise, cancelPromise]),\n",
              "    response: {\n",
              "      action: 'starting',\n",
              "    }\n",
              "  };\n",
              "\n",
              "  cancel.remove();\n",
              "\n",
              "  // Disable the input element since further picks are not allowed.\n",
              "  inputElement.disabled = true;\n",
              "\n",
              "  if (!files) {\n",
              "    return {\n",
              "      response: {\n",
              "        action: 'complete',\n",
              "      }\n",
              "    };\n",
              "  }\n",
              "\n",
              "  for (const file of files) {\n",
              "    const li = document.createElement('li');\n",
              "    li.append(span(file.name, {fontWeight: 'bold'}));\n",
              "    li.append(span(\n",
              "        `(${file.type || 'n/a'}) - ${file.size} bytes, ` +\n",
              "        `last modified: ${\n",
              "            file.lastModifiedDate ? file.lastModifiedDate.toLocaleDateString() :\n",
              "                                    'n/a'} - `));\n",
              "    const percent = span('0% done');\n",
              "    li.appendChild(percent);\n",
              "\n",
              "    outputElement.appendChild(li);\n",
              "\n",
              "    const fileDataPromise = new Promise((resolve) => {\n",
              "      const reader = new FileReader();\n",
              "      reader.onload = (e) => {\n",
              "        resolve(e.target.result);\n",
              "      };\n",
              "      reader.readAsArrayBuffer(file);\n",
              "    });\n",
              "    // Wait for the data to be ready.\n",
              "    let fileData = yield {\n",
              "      promise: fileDataPromise,\n",
              "      response: {\n",
              "        action: 'continue',\n",
              "      }\n",
              "    };\n",
              "\n",
              "    // Use a chunked sending to avoid message size limits. See b/62115660.\n",
              "    let position = 0;\n",
              "    do {\n",
              "      const length = Math.min(fileData.byteLength - position, MAX_PAYLOAD_SIZE);\n",
              "      const chunk = new Uint8Array(fileData, position, length);\n",
              "      position += length;\n",
              "\n",
              "      const base64 = btoa(String.fromCharCode.apply(null, chunk));\n",
              "      yield {\n",
              "        response: {\n",
              "          action: 'append',\n",
              "          file: file.name,\n",
              "          data: base64,\n",
              "        },\n",
              "      };\n",
              "\n",
              "      let percentDone = fileData.byteLength === 0 ?\n",
              "          100 :\n",
              "          Math.round((position / fileData.byteLength) * 100);\n",
              "      percent.textContent = `${percentDone}% done`;\n",
              "\n",
              "    } while (position < fileData.byteLength);\n",
              "  }\n",
              "\n",
              "  // All done.\n",
              "  yield {\n",
              "    response: {\n",
              "      action: 'complete',\n",
              "    }\n",
              "  };\n",
              "}\n",
              "\n",
              "scope.google = scope.google || {};\n",
              "scope.google.colab = scope.google.colab || {};\n",
              "scope.google.colab._files = {\n",
              "  _uploadFiles,\n",
              "  _uploadFilesContinue,\n",
              "};\n",
              "})(self);\n",
              "</script> "
            ]
          },
          "metadata": {}
        },
        {
          "output_type": "stream",
          "name": "stdout",
          "text": [
            "Saving download.jpeg to download.jpeg\n"
          ]
        }
      ],
      "source": [
        "from google.colab import files\n",
        "uploaded = files.upload()"
      ]
    },
    {
      "cell_type": "markdown",
      "metadata": {
        "id": "uSuzKGa865wk"
      },
      "source": [
        "**Now let us pass it to our model for predictions.**"
      ]
    },
    {
      "cell_type": "code",
      "execution_count": null,
      "metadata": {
        "colab": {
          "base_uri": "https://localhost:8080/",
          "height": 281
        },
        "id": "ejiDBVHG69Rn",
        "outputId": "97f00d1d-c480-4d6e-b585-e704cd5d8fab"
      },
      "outputs": [
        {
          "output_type": "display_data",
          "data": {
            "text/plain": [
              "<Figure size 432x288 with 1 Axes>"
            ],
            "image/png": "[encoded data removed]"
          },
          "metadata": {
            "needs_background": "light"
          }
        }
      ],
      "source": [
        "image = cv2.imread('/content/download.jpeg')\n",
        "\n",
        "image = crop_brain_contour(image, plot=False)\n",
        "\n",
        "\n",
        "image = cv2.resize(image, dsize=(150, 150), interpolation=cv2.INTER_CUBIC)\n",
        "\n",
        "image = image / 255.\n",
        "\n",
        "plt.imshow(image)\n",
        "\n",
        "plt.title(\"INPUT IMAGE (with tumor)\");"
      ]
    },
    {
      "cell_type": "code",
      "execution_count": null,
      "metadata": {
        "colab": {
          "base_uri": "https://localhost:8080/"
        },
        "id": "usLGiWpu9A8o",
        "outputId": "efb46f05-55d3-43b9-9867-b1f5723328e0"
      },
      "outputs": [
        {
          "output_type": "stream",
          "name": "stdout",
          "text": [
            "1/1 [==============================] - 0s 19ms/step\n"
          ]
        }
      ],
      "source": [
        "\n",
        "res = model.predict( np.array( [image,] )  )\n"
      ]
    },
    {
      "cell_type": "code",
      "execution_count": null,
      "metadata": {
        "colab": {
          "base_uri": "https://localhost:8080/"
        },
        "id": "HPw3cdv28Vmd",
        "outputId": "31c2e1fa-6ebd-41b4-83ee-3b7791aafe3d"
      },
      "outputs": [
        {
          "output_type": "stream",
          "name": "stdout",
          "text": [
            "The input image has tumor with 99.3582010269165% accuracy\n"
          ]
        }
      ],
      "source": [
        "if res[0] > 0.5:\n",
        "  print(f\"The input image has tumor with {res[0][0]*100}% accuracy\")\n",
        "else:\n",
        "  print(f\"The input image has no tumor with {(1 - res[0][0])*100}% accuracy\")"
      ]
    },
    {
      "cell_type": "code",
      "execution_count": null,
      "metadata": {
        "id": "PJzhu4GQ-TO3"
      },
      "outputs": [],
      "source": [
        "\n"
      ]
    }
  ],
  "metadata": {
    "accelerator": "GPU",
    "colab": {
      "provenance": [],
      "mount_file_id": "1RwcJguDlpfLnAjpmLvVWEXwHUAsbqGbL",
      "authorship_tag": "ABX9TyO6Gp6hEkn6qvZTLM53F5KC",
      "include_colab_link": true
    },
    "gpuClass": "standard",
    "kernelspec": {
      "display_name": "Python 3",
      "name": "python3"
    },
    "language_info": {
      "name": "python"
    }
  },
  "nbformat": 4,
  "nbformat_minor": 0
}