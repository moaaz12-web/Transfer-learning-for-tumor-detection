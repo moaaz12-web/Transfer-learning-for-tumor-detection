{
  "nbformat": 4,
  "nbformat_minor": 0,
  "metadata": {
    "colab": {
      "provenance": [],
      "include_colab_link": true
    },
    "kernelspec": {
      "name": "python3",
      "display_name": "Python 3"
    },
    "language_info": {
      "name": "python"
    },
    "accelerator": "GPU",
    "gpuClass": "standard"
  },
  "cells": [
    {
      "cell_type": "markdown",
      "metadata": {
        "id": "view-in-github",
        "colab_type": "text"
      },
      "source": [
        "<a href=\"https://colab.research.google.com/github/moaaz12-web/Transfer-learning-for-tumor-detection/blob/main/VGG_16_(1).ipynb\" target=\"_parent\"><img src=\"https://colab.research.google.com/assets/colab-badge.svg\" alt=\"Open In Colab\"/></a>"
      ]
    },
    {
      "cell_type": "code",
      "source": [
        "! unzip /content/drive/MyDrive/data/br_detect.zip"
      ],
      "metadata": {
        "id": "UfBzY78dWXih"
      },
      "execution_count": null,
      "outputs": []
    },
    {
      "cell_type": "markdown",
      "source": [
        "# IMPORTING DEPENDENCIES"
      ],
      "metadata": {
        "id": "4gTvQQmxbMsy"
      }
    },
    {
      "cell_type": "code",
      "execution_count": null,
      "metadata": {
        "id": "5Aai1GinVKCN"
      },
      "outputs": [],
      "source": [
        "import tensorflow as tf\n",
        "import os\n",
        "os.environ[\"CUDA_DEVICE_ORDER\"] = \"PCI_BUS_ID\"  # see issue #152\n",
        "os.environ['CUDA_VISIBLE_DEVICES'] = '0'  # -1  to USE CPU\n",
        "from keras.layers import Conv2D, Input, ZeroPadding2D, BatchNormalization, Activation, MaxPooling2D, Flatten, Dense,Dropout\n",
        "from keras.models import Model, load_model\n",
        "from keras.callbacks import TensorBoard, ModelCheckpoint, ReduceLROnPlateau\n",
        "from sklearn.model_selection import train_test_split\n",
        "from sklearn.metrics import f1_score\n",
        "from sklearn.utils import shuffle\n",
        "import cv2\n",
        "import imutils\n",
        "import numpy as np\n",
        "import matplotlib.pyplot as plt\n",
        "import time\n",
        "from os import listdir\n",
        "\n",
        "get_ipython().magic(u'matplotlib inline')\n",
        "\n",
        "from matplotlib.image import imread\n",
        "from keras.models import Sequential\n",
        "from keras.layers import Conv2D\n",
        "from keras.layers import MaxPool2D\n",
        "from keras.layers import Flatten\n",
        "from keras.layers import Dense\n",
        "from keras.layers import Dropout\n",
        "from keras.preprocessing.image import ImageDataGenerator\n",
        "from keras.optimizers import SGD\n",
        "from keras.optimizers import RMSprop\n",
        "# from keras.callbacks.callbacks import EarlyStopping,ModelCheckpoint,CSVLogger\n",
        "# from livelossplot import PlotLossesKeras\n",
        "from keras.applications import VGG16,VGG19\n",
        "from keras.models import Model\n",
        "import os\n",
        "import zipfile\n",
        "import glob\n",
        "import shutil"
      ]
    },
    {
      "cell_type": "code",
      "source": [],
      "metadata": {
        "id": "cxTjut9MV8yz"
      },
      "execution_count": null,
      "outputs": []
    },
    {
      "cell_type": "markdown",
      "source": [
        "# DEFINING A FUNCTION TO LOOP OVER EACH IMAGE AND REFINE IT"
      ],
      "metadata": {
        "id": "BQL3gOsQbPJe"
      }
    },
    {
      "cell_type": "code",
      "source": [
        "def crop_brain_contour(image, plot=False):\n",
        "\n",
        "    # Convert the image to grayscale, and blur it slightly\n",
        "    gray = cv2.cvtColor(image, cv2.COLOR_BGR2GRAY)\n",
        "    gray = cv2.GaussianBlur(gray, (5, 5), 0)\n",
        "\n",
        "    # Threshold the image, then perform a series of erosions +\n",
        "    # dilations to remove any small regions of noise\n",
        "    thresh = cv2.threshold(gray, 45, 255, cv2.THRESH_BINARY)[1]\n",
        "    thresh = cv2.erode(thresh, None, iterations=2)\n",
        "    thresh = cv2.dilate(thresh, None, iterations=2)\n",
        "\n",
        "    # Find contours in thresholded image, then grab the largest one\n",
        "    cnts = cv2.findContours(thresh.copy(), cv2.RETR_EXTERNAL, cv2.CHAIN_APPROX_SIMPLE)\n",
        "    cnts = imutils.grab_contours(cnts)\n",
        "    c = max(cnts, key=cv2.contourArea)\n",
        "\n",
        "    # Find the extreme points\n",
        "    extLeft = tuple(c[c[:, :, 0].argmin()][0])\n",
        "    extRight = tuple(c[c[:, :, 0].argmax()][0])\n",
        "    extTop = tuple(c[c[:, :, 1].argmin()][0])\n",
        "    extBot = tuple(c[c[:, :, 1].argmax()][0])\n",
        "\n",
        "    # crop new image out of the original image using the four extreme points (left, right, top, bottom)\n",
        "    new_image = image[extTop[1]:extBot[1], extLeft[0]:extRight[0]]\n",
        "\n",
        "    if plot:\n",
        "        plt.figure()\n",
        "\n",
        "        plt.subplot(1, 2, 1)\n",
        "        plt.imshow(image)\n",
        "\n",
        "        plt.tick_params(axis='both', which='both',\n",
        "                        top=False, bottom=False, left=False, right=False,\n",
        "                        labelbottom=False, labeltop=False, labelleft=False, labelright=False)\n",
        "        plt.title('Original Image')\n",
        "        plt.subplot(1, 2, 2)\n",
        "        plt.imshow(new_image)\n",
        "        plt.tick_params(axis='both', which='both',\n",
        "                        top=False, bottom=False, left=False, right=False,\n",
        "                        labelbottom=False, labeltop=False, labelleft=False, labelright=False)\n",
        "        plt.title('Cropped Image')\n",
        "        plt.show()\n",
        "    return new_image"
      ],
      "metadata": {
        "id": "otjJBUhbVq_0"
      },
      "execution_count": null,
      "outputs": []
    },
    {
      "cell_type": "markdown",
      "source": [
        "# DEFINING A FUNCTION THAT WILL COLLECT THE IMAGES FROM OUR DATASET, APPLY THE PREVIOUS FUNCTION, AND MAKE INPUTS (X) AND OUTPUTS (Y) "
      ],
      "metadata": {
        "id": "q9-Yb5ACbTaw"
      }
    },
    {
      "cell_type": "code",
      "source": [
        "def load_data(dir_list, image_size):\n",
        "    \"\"\"\n",
        "    Read images, resize and normalize them. \n",
        "    Arguments:\n",
        "        dir_list: list of strings representing file directories.\n",
        "    Returns:\n",
        "        X: A numpy array with shape = (#_examples, image_width, image_height, #_channels)\n",
        "        y: A numpy array with shape = (#_examples, 1)\n",
        "    \"\"\"\n",
        "    # load all images in a directory\n",
        "    X = []\n",
        "    y = []\n",
        "    image_width, image_height = image_size\n",
        "    for directory in dir_list:\n",
        "        for filename in listdir(directory):\n",
        "            print(filename)\n",
        "            print(directory)\n",
        "            # load the image\n",
        "            image = cv2.imread(directory + '/' + filename)\n",
        "            # print(image)\n",
        "            # crop the brain and ignore the unnecessary rest part of the image\n",
        "            image = crop_brain_contour(image, plot=False)\n",
        "            # resize image\n",
        "            image = cv2.resize(image, dsize=(image_width, image_height), interpolation=cv2.INTER_CUBIC)\n",
        "            # normalize values\n",
        "            image = image / 255.\n",
        "            # convert image to numpy array and append it to X\n",
        "            X.append(image)\n",
        "            # append a value of 1 to the target array if the image\n",
        "            # is in the folder named 'yes', otherwise append 0.\n",
        "            if directory[-3:] == 'yes':\n",
        "                y.append([1])\n",
        "            else:\n",
        "                y.append([0])\n",
        "    X = np.array(X)\n",
        "    y = np.array(y)\n",
        "    # Shuffle the data\n",
        "    X, y = shuffle(X, y)\n",
        "    print('Number of examples is:{}'.format(len(X)))\n",
        "    return X,y\n"
      ],
      "metadata": {
        "id": "0G_jvAYVVtTs"
      },
      "execution_count": null,
      "outputs": []
    },
    {
      "cell_type": "code",
      "source": [
        "folders = ['/content/yes', '/content/no']\n",
        "img_size = (224,224)"
      ],
      "metadata": {
        "id": "HV2pWMSBVvLh"
      },
      "execution_count": null,
      "outputs": []
    },
    {
      "cell_type": "code",
      "source": [
        "X,y = load_data(folders, img_size)"
      ],
      "metadata": {
        "id": "rDGPdgapVw18"
      },
      "execution_count": null,
      "outputs": []
    },
    {
      "cell_type": "markdown",
      "source": [
        "# DEFINING A FUNCTION THAT WILL SPLIT THE X AND Y INTO TRAINING, TESTING, AND VALIDATION SET"
      ],
      "metadata": {
        "id": "omU4kuTTbeJD"
      }
    },
    {
      "cell_type": "code",
      "source": [
        "def split_data(X, y, test_size=0.2):\n",
        "\n",
        "    X_train, X_test_val, y_train, y_test_val = train_test_split(X, y, test_size=test_size, random_state=42)\n",
        "    X_test, X_val, y_test, y_val = train_test_split(X_test_val, y_test_val, test_size=0.5, random_state=42)\n",
        "    return X_train, y_train, X_val, y_val, X_test, y_test\n",
        "\n",
        "X_train, y_train, X_val, y_val, X_test, y_test = split_data(X, y, test_size=0.3)"
      ],
      "metadata": {
        "id": "-EBz5paoVzEc"
      },
      "execution_count": null,
      "outputs": []
    },
    {
      "cell_type": "code",
      "source": [
        "print (\"number of training examples = \" + str(X_train.shape[0]))\n",
        "print (\"number of validation examples = \" + str(X_val.shape[0]))\n",
        "print (\"number of test examples = \" + str(X_test.shape[0]))\n",
        "print (\"X_train shape: \" + str(X_train.shape))\n",
        "print (\"Y_train shape: \" + str(y_train.shape))\n",
        "print (\"X_val (dev) shape: \" + str(X_val.shape))\n",
        "print (\"Y_val (dev) shape: \" + str(y_val.shape))\n",
        "print (\"X_test shape: \" + str(X_test.shape))\n",
        "print (\"Y_test shape: \" + str(y_test.shape))"
      ],
      "metadata": {
        "colab": {
          "base_uri": "https://localhost:8080/"
        },
        "id": "D9HpM6Z1V09X",
        "outputId": "a8dd32f5-7860-433d-b303-f327f2089dc5"
      },
      "execution_count": null,
      "outputs": [
        {
          "output_type": "stream",
          "name": "stdout",
          "text": [
            "number of training examples = 2100\n",
            "number of validation examples = 450\n",
            "number of test examples = 450\n",
            "X_train shape: (2100, 224, 224, 3)\n",
            "Y_train shape: (2100, 1)\n",
            "X_val (dev) shape: (450, 224, 224, 3)\n",
            "Y_val (dev) shape: (450, 1)\n",
            "X_test shape: (450, 224, 224, 3)\n",
            "Y_test shape: (450, 1)\n"
          ]
        }
      ]
    },
    {
      "cell_type": "code",
      "source": [
        "del X\n",
        "del y"
      ],
      "metadata": {
        "id": "ITUSgux6WfD5"
      },
      "execution_count": null,
      "outputs": []
    },
    {
      "cell_type": "markdown",
      "source": [
        "# DEFINING A FUNCTION TO COMPUTE F1-SCORE"
      ],
      "metadata": {
        "id": "u_n-ax22bnm2"
      }
    },
    {
      "cell_type": "code",
      "source": [
        "def compute_f1_score(y_true, prob):\n",
        "    # convert the vector of probabilities to a target vector\n",
        "    y_pred = np.where(prob > 0.5, 1, 0)\n",
        "    score = f1_score(y_true, y_pred)\n",
        "\n",
        "    return score"
      ],
      "metadata": {
        "id": "U26aKAi2V22o"
      },
      "execution_count": null,
      "outputs": []
    },
    {
      "cell_type": "markdown",
      "source": [
        "# CREATING THE VGG-16 MODEL"
      ],
      "metadata": {
        "id": "vdcdp6u0bqiY"
      }
    },
    {
      "cell_type": "code",
      "source": [
        "# Loading the VGG model using Transfer Learning\n",
        "transfer_model = VGG16(include_top = False, weights = 'imagenet',input_shape = (224,224,3))\n",
        "for layer in transfer_model.layers:\n",
        "    layer.trainable = False\n",
        "\n",
        "# Defining the output layers\n",
        "flat = Flatten()(transfer_model.layers[-1].output)\n",
        "class1 = Dense(units = 256, activation='relu')(flat)\n",
        "class2 = Dense(units = 256, activation = 'relu')(class1)\n",
        "output = Dense(units = 1, activation='sigmoid')(class2)\n",
        "\n",
        "# define new model\n",
        "transfer_model = Model(inputs=transfer_model.inputs, outputs=output)\n",
        "\n",
        "# COMPILE THE MODEL\n",
        "transfer_model.compile(loss='binary_crossentropy',\n",
        "            optimizer=RMSprop(lr=0.001),\n",
        "            metrics=['accuracy'])"
      ],
      "metadata": {
        "id": "5axmeR8aGoNY"
      },
      "execution_count": null,
      "outputs": []
    },
    {
      "cell_type": "markdown",
      "source": [
        "# CALLBACKS FOR SAVING THE MODEL"
      ],
      "metadata": {
        "id": "InLGhARBb1zo"
      }
    },
    {
      "cell_type": "code",
      "source": [
        "import time\n",
        "\n",
        "# tensorboard\n",
        "log_file_name = 'brain_tumor_detection_cnn_{}'.format(int(time.time()))\n",
        "tensorboard = TensorBoard(log_dir='logs/{}'.format(log_file_name))\n",
        "\n",
        "\n",
        "\n",
        "\n",
        "# checkpoint\n",
        "# unique file name that will include the epoch and the validation (development) accuracy\n",
        "filepath=\"/cnn_parameters_improvement_{epoch:02d}_{val_acc:.2f}\"\n",
        "# save the model with the best validation (development) accuracy till now\n",
        "checkpoint = ModelCheckpoint(\"/models/{}.model\".format(filepath, monitor='val_accuracy', verbose=1, save_best_only=True, mode='max'))"
      ],
      "metadata": {
        "id": "gjzaPIkJRFB1"
      },
      "execution_count": null,
      "outputs": []
    },
    {
      "cell_type": "code",
      "source": [
        "reduce_lr = ReduceLROnPlateau(monitor='val_loss', factor=0.35,\n",
        "                              patience=4, min_lr=0.001)"
      ],
      "metadata": {
        "id": "_anZy54-a47a"
      },
      "execution_count": null,
      "outputs": []
    },
    {
      "cell_type": "markdown",
      "source": [
        "## TRAINING"
      ],
      "metadata": {
        "id": "41kQ2DtTb0V0"
      }
    },
    {
      "cell_type": "code",
      "source": [
        "transfer_model.fit(x=X_train, y=y_train, batch_size=128, epochs=50, validation_data=(X_val, y_val), callbacks=[reduce_lr,tensorboard])"
      ],
      "metadata": {
        "colab": {
          "base_uri": "https://localhost:8080/"
        },
        "id": "3HGVqMODGoIO",
        "outputId": "7588b6b5-93f9-4283-838f-6558f7391a1e"
      },
      "execution_count": null,
      "outputs": [
        {
          "output_type": "stream",
          "name": "stdout",
          "text": [
            "Epoch 1/50\n",
            "17/17 [==============================] - 15s 801ms/step - loss: 3.7062 - accuracy: 0.5124 - val_loss: 0.7734 - val_accuracy: 0.4733 - lr: 0.0010\n",
            "Epoch 2/50\n",
            "17/17 [==============================] - 12s 734ms/step - loss: 0.6108 - accuracy: 0.6443 - val_loss: 0.6584 - val_accuracy: 0.6044 - lr: 0.0010\n",
            "Epoch 3/50\n",
            "17/17 [==============================] - 12s 737ms/step - loss: 0.6243 - accuracy: 0.6757 - val_loss: 0.6515 - val_accuracy: 0.6200 - lr: 0.0010\n",
            "Epoch 4/50\n",
            "17/17 [==============================] - 13s 760ms/step - loss: 0.5019 - accuracy: 0.7329 - val_loss: 0.5169 - val_accuracy: 0.6978 - lr: 0.0010\n",
            "Epoch 5/50\n",
            "17/17 [==============================] - 13s 761ms/step - loss: 0.3837 - accuracy: 0.8167 - val_loss: 1.8382 - val_accuracy: 0.4911 - lr: 0.0010\n",
            "Epoch 6/50\n",
            "17/17 [==============================] - 13s 754ms/step - loss: 0.4206 - accuracy: 0.8295 - val_loss: 0.3602 - val_accuracy: 0.8222 - lr: 0.0010\n",
            "Epoch 7/50\n",
            "17/17 [==============================] - 13s 758ms/step - loss: 0.2886 - accuracy: 0.8733 - val_loss: 0.2473 - val_accuracy: 0.8956 - lr: 0.0010\n",
            "Epoch 8/50\n",
            "17/17 [==============================] - 13s 755ms/step - loss: 0.2488 - accuracy: 0.8900 - val_loss: 0.7863 - val_accuracy: 0.6533 - lr: 0.0010\n",
            "Epoch 9/50\n",
            "17/17 [==============================] - 13s 761ms/step - loss: 0.2692 - accuracy: 0.8933 - val_loss: 0.1280 - val_accuracy: 0.9467 - lr: 0.0010\n",
            "Epoch 10/50\n",
            "17/17 [==============================] - 13s 763ms/step - loss: 0.2515 - accuracy: 0.8957 - val_loss: 0.1075 - val_accuracy: 0.9600 - lr: 0.0010\n",
            "Epoch 11/50\n",
            "17/17 [==============================] - 13s 769ms/step - loss: 0.2170 - accuracy: 0.9095 - val_loss: 0.0966 - val_accuracy: 0.9667 - lr: 0.0010\n",
            "Epoch 12/50\n",
            "17/17 [==============================] - 13s 762ms/step - loss: 0.1643 - accuracy: 0.9333 - val_loss: 0.1547 - val_accuracy: 0.9422 - lr: 0.0010\n",
            "Epoch 13/50\n",
            "17/17 [==============================] - 13s 770ms/step - loss: 0.1865 - accuracy: 0.9371 - val_loss: 0.0799 - val_accuracy: 0.9733 - lr: 0.0010\n",
            "Epoch 14/50\n",
            "17/17 [==============================] - 13s 766ms/step - loss: 0.1270 - accuracy: 0.9505 - val_loss: 0.0645 - val_accuracy: 0.9778 - lr: 0.0010\n",
            "Epoch 15/50\n",
            "17/17 [==============================] - 13s 771ms/step - loss: 0.1504 - accuracy: 0.9438 - val_loss: 0.0686 - val_accuracy: 0.9756 - lr: 0.0010\n",
            "Epoch 16/50\n",
            "17/17 [==============================] - 13s 796ms/step - loss: 0.1216 - accuracy: 0.9524 - val_loss: 0.0854 - val_accuracy: 0.9689 - lr: 0.0010\n",
            "Epoch 17/50\n",
            "17/17 [==============================] - 13s 776ms/step - loss: 0.1619 - accuracy: 0.9490 - val_loss: 0.0731 - val_accuracy: 0.9733 - lr: 0.0010\n",
            "Epoch 18/50\n",
            "17/17 [==============================] - 13s 777ms/step - loss: 0.0302 - accuracy: 0.9924 - val_loss: 0.6300 - val_accuracy: 0.7378 - lr: 0.0010\n",
            "Epoch 19/50\n",
            "17/17 [==============================] - 13s 792ms/step - loss: 0.0856 - accuracy: 0.9695 - val_loss: 0.0519 - val_accuracy: 0.9800 - lr: 0.0010\n",
            "Epoch 20/50\n",
            "17/17 [==============================] - 13s 794ms/step - loss: 0.2088 - accuracy: 0.9376 - val_loss: 0.0555 - val_accuracy: 0.9822 - lr: 0.0010\n",
            "Epoch 21/50\n",
            "17/17 [==============================] - 13s 786ms/step - loss: 0.0115 - accuracy: 0.9990 - val_loss: 0.0500 - val_accuracy: 0.9800 - lr: 0.0010\n",
            "Epoch 22/50\n",
            "17/17 [==============================] - 13s 781ms/step - loss: 0.2409 - accuracy: 0.9514 - val_loss: 0.0575 - val_accuracy: 0.9867 - lr: 0.0010\n",
            "Epoch 23/50\n",
            "17/17 [==============================] - 13s 782ms/step - loss: 0.0088 - accuracy: 0.9995 - val_loss: 0.0505 - val_accuracy: 0.9844 - lr: 0.0010\n",
            "Epoch 24/50\n",
            "17/17 [==============================] - 13s 779ms/step - loss: 0.0034 - accuracy: 1.0000 - val_loss: 0.0574 - val_accuracy: 0.9800 - lr: 0.0010\n",
            "Epoch 25/50\n",
            "17/17 [==============================] - 13s 795ms/step - loss: 0.3466 - accuracy: 0.9557 - val_loss: 0.0846 - val_accuracy: 0.9711 - lr: 0.0010\n",
            "Epoch 26/50\n",
            "17/17 [==============================] - 13s 792ms/step - loss: 0.0073 - accuracy: 1.0000 - val_loss: 0.0437 - val_accuracy: 0.9911 - lr: 0.0010\n",
            "Epoch 27/50\n",
            "17/17 [==============================] - 13s 804ms/step - loss: 0.0027 - accuracy: 1.0000 - val_loss: 0.0521 - val_accuracy: 0.9911 - lr: 0.0010\n",
            "Epoch 28/50\n",
            "17/17 [==============================] - 13s 778ms/step - loss: 0.0012 - accuracy: 1.0000 - val_loss: 0.0480 - val_accuracy: 0.9889 - lr: 0.0010\n",
            "Epoch 29/50\n",
            "17/17 [==============================] - 13s 788ms/step - loss: 0.0170 - accuracy: 0.9952 - val_loss: 7.7764 - val_accuracy: 0.5356 - lr: 0.0010\n",
            "Epoch 30/50\n",
            "17/17 [==============================] - 13s 795ms/step - loss: 0.3779 - accuracy: 0.9748 - val_loss: 0.0464 - val_accuracy: 0.9889 - lr: 0.0010\n",
            "Epoch 31/50\n",
            "17/17 [==============================] - 13s 779ms/step - loss: 7.3903e-04 - accuracy: 1.0000 - val_loss: 0.0443 - val_accuracy: 0.9911 - lr: 0.0010\n",
            "Epoch 32/50\n",
            "17/17 [==============================] - 13s 787ms/step - loss: 4.5382e-04 - accuracy: 1.0000 - val_loss: 0.0497 - val_accuracy: 0.9889 - lr: 0.0010\n",
            "Epoch 33/50\n",
            "17/17 [==============================] - 13s 795ms/step - loss: 2.6132e-04 - accuracy: 1.0000 - val_loss: 0.0513 - val_accuracy: 0.9933 - lr: 0.0010\n",
            "Epoch 34/50\n",
            "17/17 [==============================] - 13s 785ms/step - loss: 1.4199e-04 - accuracy: 1.0000 - val_loss: 0.0492 - val_accuracy: 0.9867 - lr: 0.0010\n",
            "Epoch 35/50\n",
            "17/17 [==============================] - 13s 785ms/step - loss: 7.0363e-05 - accuracy: 1.0000 - val_loss: 0.0559 - val_accuracy: 0.9889 - lr: 0.0010\n",
            "Epoch 36/50\n",
            "17/17 [==============================] - 13s 788ms/step - loss: 0.3688 - accuracy: 0.9500 - val_loss: 0.0509 - val_accuracy: 0.9822 - lr: 0.0010\n",
            "Epoch 37/50\n",
            "17/17 [==============================] - 13s 797ms/step - loss: 0.0011 - accuracy: 1.0000 - val_loss: 0.0488 - val_accuracy: 0.9822 - lr: 0.0010\n",
            "Epoch 38/50\n",
            "17/17 [==============================] - 13s 783ms/step - loss: 5.8178e-04 - accuracy: 1.0000 - val_loss: 0.0462 - val_accuracy: 0.9889 - lr: 0.0010\n",
            "Epoch 39/50\n",
            "17/17 [==============================] - 13s 783ms/step - loss: 3.3226e-04 - accuracy: 1.0000 - val_loss: 0.0446 - val_accuracy: 0.9889 - lr: 0.0010\n",
            "Epoch 40/50\n",
            "17/17 [==============================] - 13s 803ms/step - loss: 1.7005e-04 - accuracy: 1.0000 - val_loss: 0.0462 - val_accuracy: 0.9889 - lr: 0.0010\n",
            "Epoch 41/50\n",
            "17/17 [==============================] - 13s 802ms/step - loss: 8.1507e-05 - accuracy: 1.0000 - val_loss: 0.0504 - val_accuracy: 0.9911 - lr: 0.0010\n",
            "Epoch 42/50\n",
            "17/17 [==============================] - 13s 781ms/step - loss: 3.9885e-05 - accuracy: 1.0000 - val_loss: 0.0479 - val_accuracy: 0.9889 - lr: 0.0010\n",
            "Epoch 43/50\n",
            "17/17 [==============================] - 13s 788ms/step - loss: 1.9174e-05 - accuracy: 1.0000 - val_loss: 0.0554 - val_accuracy: 0.9911 - lr: 0.0010\n",
            "Epoch 44/50\n",
            "17/17 [==============================] - 13s 788ms/step - loss: 0.7005 - accuracy: 0.9676 - val_loss: 0.0903 - val_accuracy: 0.9756 - lr: 0.0010\n",
            "Epoch 45/50\n",
            "17/17 [==============================] - 13s 780ms/step - loss: 1.7831e-04 - accuracy: 1.0000 - val_loss: 0.0563 - val_accuracy: 0.9867 - lr: 0.0010\n",
            "Epoch 46/50\n",
            "17/17 [==============================] - 13s 780ms/step - loss: 6.8388e-05 - accuracy: 1.0000 - val_loss: 0.0708 - val_accuracy: 0.9822 - lr: 0.0010\n",
            "Epoch 47/50\n",
            "17/17 [==============================] - 13s 794ms/step - loss: 2.4622e-05 - accuracy: 1.0000 - val_loss: 0.0614 - val_accuracy: 0.9911 - lr: 0.0010\n",
            "Epoch 48/50\n",
            "17/17 [==============================] - 13s 785ms/step - loss: 8.1859e-06 - accuracy: 1.0000 - val_loss: 0.0708 - val_accuracy: 0.9867 - lr: 0.0010\n",
            "Epoch 49/50\n",
            "17/17 [==============================] - 13s 797ms/step - loss: 4.1960e-06 - accuracy: 1.0000 - val_loss: 0.0619 - val_accuracy: 0.9911 - lr: 0.0010\n",
            "Epoch 50/50\n",
            "17/17 [==============================] - 13s 777ms/step - loss: 2.1121e-06 - accuracy: 1.0000 - val_loss: 0.0699 - val_accuracy: 0.9867 - lr: 0.0010\n"
          ]
        },
        {
          "output_type": "execute_result",
          "data": {
            "text/plain": [
              "<keras.callbacks.History at 0x7fc6fc23fb10>"
            ]
          },
          "metadata": {},
          "execution_count": 25
        }
      ]
    },
    {
      "cell_type": "code",
      "source": [],
      "metadata": {
        "id": "gedsePH94VM8"
      },
      "execution_count": null,
      "outputs": []
    },
    {
      "cell_type": "markdown",
      "source": [
        "# SAVING MODEL TO DRIVE"
      ],
      "metadata": {
        "id": "nXONfoFBcQYv"
      }
    },
    {
      "cell_type": "code",
      "source": [
        "from keras.models import load_model\n",
        "\n",
        "transfer_model.save('/content/drive/MyDrive/data/saved_model_latest_latest.h5')  # creates a HDF5 file 'my_model.h5' in ur google drive\n",
        "\n",
        "# model = tf.keras.models.load_model('/content/drive/MyDrive/data/saved_model_7_latest_tired.h5')\n"
      ],
      "metadata": {
        "id": "EWpcn3tMcR5J"
      },
      "execution_count": null,
      "outputs": []
    },
    {
      "cell_type": "code",
      "source": [
        "history = transfer_model.history.history\n",
        "\n",
        "for key in history.keys():\n",
        "    print(key)"
      ],
      "metadata": {
        "colab": {
          "base_uri": "https://localhost:8080/"
        },
        "id": "_WvMG-49cUUL",
        "outputId": "3bf504c7-3d26-4890-a463-440ebea7fdac"
      },
      "execution_count": null,
      "outputs": [
        {
          "output_type": "stream",
          "name": "stdout",
          "text": [
            "loss\n",
            "accuracy\n",
            "val_loss\n",
            "val_accuracy\n",
            "lr\n"
          ]
        }
      ]
    },
    {
      "cell_type": "markdown",
      "source": [
        "# PLOT EVALUATION METRICS"
      ],
      "metadata": {
        "id": "El_qzwoXcWxI"
      }
    },
    {
      "cell_type": "code",
      "source": [
        "def plot_metrics(history):\n",
        "\n",
        "    train_loss = history['loss']\n",
        "    val_loss = history['val_loss']\n",
        "    train_acc = history['accuracy']\n",
        "    val_acc = history['val_accuracy']\n",
        "\n",
        "    # Loss\n",
        "    plt.figure()\n",
        "    plt.plot(train_loss, label='Training Loss')\n",
        "    plt.plot(val_loss, label='Validation Loss')\n",
        "    plt.title('Loss')\n",
        "    plt.legend()\n",
        "    plt.show()\n",
        "\n",
        "    # Accuracy\n",
        "    plt.figure()\n",
        "    plt.plot(train_acc, label='Training Accuracy')\n",
        "    plt.plot(val_acc, label='Validation Accuracy')\n",
        "    plt.title('Accuracy')\n",
        "    plt.legend()\n",
        "    plt.show()\n",
        "\n",
        "\n",
        "\n",
        "\n",
        "plot_metrics(history)"
      ],
      "metadata": {
        "colab": {
          "base_uri": "https://localhost:8080/",
          "height": 545
        },
        "id": "e59b-hYhcYZx",
        "outputId": "315fd4c8-4650-403d-bd0b-abb601fdd07e"
      },
      "execution_count": null,
      "outputs": [
        {
          "output_type": "display_data",
          "data": {
            "text/plain": [
              "<Figure size 432x288 with 1 Axes>"
            ],
            "image/png": "[encoded data removed]"
          },
          "metadata": {
            "needs_background": "light"
          }
        },
        {
          "output_type": "display_data",
          "data": {
            "text/plain": [
              "<Figure size 432x288 with 1 Axes>"
            ],
            "image/png": "[encoded data removed]"
          },
          "metadata": {
            "needs_background": "light"
          }
        }
      ]
    },
    {
      "cell_type": "code",
      "source": [
        "transfer_model.metrics_names\n"
      ],
      "metadata": {
        "colab": {
          "base_uri": "https://localhost:8080/"
        },
        "id": "QhQsDGmTcbTc",
        "outputId": "ed554b15-0d37-4b87-affe-a10cbcfa68b6"
      },
      "execution_count": null,
      "outputs": [
        {
          "output_type": "execute_result",
          "data": {
            "text/plain": [
              "['loss', 'accuracy']"
            ]
          },
          "metadata": {},
          "execution_count": 29
        }
      ]
    },
    {
      "cell_type": "markdown",
      "source": [
        "# EVALUATION ON VALIDATION DATA"
      ],
      "metadata": {
        "id": "2q6SsvAVcdR4"
      }
    },
    {
      "cell_type": "code",
      "source": [
        "loss, acc = transfer_model.evaluate(x=X_val, y=y_val)\n"
      ],
      "metadata": {
        "colab": {
          "base_uri": "https://localhost:8080/"
        },
        "id": "1I84zcflceox",
        "outputId": "8c032dfb-92d6-414d-877e-c3956a581c1d"
      },
      "execution_count": null,
      "outputs": [
        {
          "output_type": "stream",
          "name": "stdout",
          "text": [
            "15/15 [==============================] - 6s 208ms/step - loss: 0.0699 - accuracy: 0.9867\n"
          ]
        }
      ]
    },
    {
      "cell_type": "code",
      "source": [
        "print (\"Validation Loss = {}\".format(loss))\n",
        "print (\"Validation Accuracy = {}%\".format(np.around(acc*100)))"
      ],
      "metadata": {
        "colab": {
          "base_uri": "https://localhost:8080/"
        },
        "id": "bHCFxU8Ecgxw",
        "outputId": "d0ba841d-ec85-4cb3-a71a-b416e8886cc9"
      },
      "execution_count": null,
      "outputs": [
        {
          "output_type": "stream",
          "name": "stdout",
          "text": [
            "Validation Loss = 0.0699150338768959\n",
            "Validation Accuracy = 99.0%\n"
          ]
        }
      ]
    },
    {
      "cell_type": "markdown",
      "source": [
        "# PREDICTIONS ON TESTING DATA"
      ],
      "metadata": {
        "id": "jwQkzLNSczjd"
      }
    },
    {
      "cell_type": "code",
      "source": [
        "y_test_prob = transfer_model.predict(X_test)\n",
        "y_test_prob"
      ],
      "metadata": {
        "colab": {
          "base_uri": "https://localhost:8080/"
        },
        "id": "ns64agTrc00T",
        "outputId": "c40b56b9-ef71-40ea-983e-eb40b43a0b08"
      },
      "execution_count": null,
      "outputs": [
        {
          "output_type": "stream",
          "name": "stdout",
          "text": [
            "15/15 [==============================] - 2s 158ms/step\n"
          ]
        },
        {
          "output_type": "execute_result",
          "data": {
            "text/plain": [
              "array([[6.91962532e-09],\n",
              "       [6.91448010e-09],\n",
              "       [1.00000000e+00],\n",
              "       [4.22872081e-02],\n",
              "       [6.84322421e-09],\n",
              "       [7.29792702e-12],\n",
              "       [1.00000000e+00],\n",
              "       [1.00000000e+00],\n",
              "       [1.41894455e-10],\n",
              "       [1.50651103e-10],\n",
              "       [1.72675118e-06],\n",
              "       [1.00000000e+00],\n",
              "       [2.17192081e-07],\n",
              "       [1.00000000e+00],\n",
              "       [1.03829667e-09],\n",
              "       [4.15862855e-09],\n",
              "       [1.00000000e+00],\n",
              "       [9.99998927e-01],\n",
              "       [9.50544000e-01],\n",
              "       [9.99817789e-01],\n",
              "       [5.06373459e-12],\n",
              "       [9.99986649e-01],\n",
              "       [6.71248529e-07],\n",
              "       [7.11151271e-09],\n",
              "       [1.00000000e+00],\n",
              "       [1.00000000e+00],\n",
              "       [1.00000000e+00],\n",
              "       [5.15551794e-12],\n",
              "       [5.24684207e-09],\n",
              "       [3.16678026e-08],\n",
              "       [1.44504829e-12],\n",
              "       [4.09640307e-07],\n",
              "       [6.76005811e-08],\n",
              "       [2.63161297e-07],\n",
              "       [1.00000000e+00],\n",
              "       [1.00000000e+00],\n",
              "       [1.00000000e+00],\n",
              "       [3.41086678e-04],\n",
              "       [3.72904693e-11],\n",
              "       [5.89162369e-07],\n",
              "       [4.49819175e-11],\n",
              "       [1.00000000e+00],\n",
              "       [3.31709941e-07],\n",
              "       [4.94601360e-10],\n",
              "       [2.19583103e-06],\n",
              "       [6.00537051e-11],\n",
              "       [1.52175232e-08],\n",
              "       [2.09100226e-09],\n",
              "       [1.85571238e-08],\n",
              "       [1.98601967e-07],\n",
              "       [5.29828903e-05],\n",
              "       [3.43349676e-12],\n",
              "       [1.00000000e+00],\n",
              "       [1.00000000e+00],\n",
              "       [2.02766814e-11],\n",
              "       [1.34951633e-10],\n",
              "       [1.00000000e+00],\n",
              "       [1.00000000e+00],\n",
              "       [1.00000000e+00],\n",
              "       [1.08346647e-08],\n",
              "       [1.32106550e-07],\n",
              "       [2.01132823e-15],\n",
              "       [1.00000000e+00],\n",
              "       [1.00000000e+00],\n",
              "       [7.69859731e-01],\n",
              "       [1.00000000e+00],\n",
              "       [9.99993086e-01],\n",
              "       [9.64798119e-07],\n",
              "       [9.99977469e-01],\n",
              "       [1.00000000e+00],\n",
              "       [1.00000000e+00],\n",
              "       [1.00000000e+00],\n",
              "       [4.15151247e-09],\n",
              "       [1.10017851e-07],\n",
              "       [9.99999762e-01],\n",
              "       [9.84360948e-09],\n",
              "       [1.00000000e+00],\n",
              "       [2.40839981e-05],\n",
              "       [9.99996185e-01],\n",
              "       [1.01309816e-09],\n",
              "       [1.00000000e+00],\n",
              "       [1.56546992e-06],\n",
              "       [1.00000000e+00],\n",
              "       [1.48603230e-09],\n",
              "       [1.00000000e+00],\n",
              "       [1.00000000e+00],\n",
              "       [1.00000000e+00],\n",
              "       [1.00000000e+00],\n",
              "       [1.00000000e+00],\n",
              "       [1.00000000e+00],\n",
              "       [9.95456696e-01],\n",
              "       [8.13631562e-09],\n",
              "       [6.36964759e-10],\n",
              "       [2.13024720e-07],\n",
              "       [2.02418851e-05],\n",
              "       [6.01169114e-09],\n",
              "       [7.46291744e-12],\n",
              "       [1.11320396e-05],\n",
              "       [9.99999762e-01],\n",
              "       [1.00000000e+00],\n",
              "       [9.39658307e-09],\n",
              "       [5.93664822e-07],\n",
              "       [1.00000000e+00],\n",
              "       [1.00000000e+00],\n",
              "       [1.02565317e-11],\n",
              "       [3.89072524e-10],\n",
              "       [6.51347998e-09],\n",
              "       [1.00000000e+00],\n",
              "       [2.50885925e-08],\n",
              "       [6.69585914e-11],\n",
              "       [1.87418809e-08],\n",
              "       [9.99999642e-01],\n",
              "       [1.00000000e+00],\n",
              "       [1.00000000e+00],\n",
              "       [1.00000000e+00],\n",
              "       [2.30085373e-08],\n",
              "       [1.00000000e+00],\n",
              "       [1.00000000e+00],\n",
              "       [1.36312974e-06],\n",
              "       [1.00000000e+00],\n",
              "       [1.00000000e+00],\n",
              "       [5.27183261e-07],\n",
              "       [1.52522106e-09],\n",
              "       [6.73326328e-09],\n",
              "       [1.00000000e+00],\n",
              "       [9.53962922e-01],\n",
              "       [8.36472124e-12],\n",
              "       [1.00000000e+00],\n",
              "       [1.00000000e+00],\n",
              "       [9.60288286e-01],\n",
              "       [3.46955485e-11],\n",
              "       [4.39730110e-12],\n",
              "       [2.15837055e-08],\n",
              "       [1.29618002e-07],\n",
              "       [1.62774116e-09],\n",
              "       [1.00000000e+00],\n",
              "       [4.39897480e-10],\n",
              "       [7.33415018e-09],\n",
              "       [9.99999523e-01],\n",
              "       [1.51472547e-14],\n",
              "       [1.00000000e+00],\n",
              "       [1.00000000e+00],\n",
              "       [1.00000000e+00],\n",
              "       [1.89523153e-08],\n",
              "       [1.00000000e+00],\n",
              "       [1.00000000e+00],\n",
              "       [1.27793343e-09],\n",
              "       [1.00000000e+00],\n",
              "       [1.73212314e-07],\n",
              "       [5.49282959e-06],\n",
              "       [2.43972540e-08],\n",
              "       [7.23451521e-10],\n",
              "       [1.00000000e+00],\n",
              "       [1.05678097e-07],\n",
              "       [1.00000000e+00],\n",
              "       [3.99505229e-09],\n",
              "       [1.00000000e+00],\n",
              "       [3.67600739e-01],\n",
              "       [9.99998569e-01],\n",
              "       [1.00000000e+00],\n",
              "       [1.04567457e-08],\n",
              "       [1.58127887e-06],\n",
              "       [1.00000000e+00],\n",
              "       [7.99337518e-04],\n",
              "       [4.45234016e-10],\n",
              "       [9.31244722e-06],\n",
              "       [2.21202150e-08],\n",
              "       [1.00000000e+00],\n",
              "       [1.39857026e-09],\n",
              "       [9.92558360e-01],\n",
              "       [1.69912482e-07],\n",
              "       [1.00000000e+00],\n",
              "       [4.69925077e-08],\n",
              "       [1.00000000e+00],\n",
              "       [1.20971588e-08],\n",
              "       [7.46925855e-11],\n",
              "       [4.75948447e-10],\n",
              "       [1.37325472e-07],\n",
              "       [3.93545122e-07],\n",
              "       [1.00000000e+00],\n",
              "       [1.00000000e+00],\n",
              "       [1.00000000e+00],\n",
              "       [1.06501434e-15],\n",
              "       [1.00000000e+00],\n",
              "       [2.12293708e-06],\n",
              "       [9.99940038e-01],\n",
              "       [1.57928970e-09],\n",
              "       [4.00079944e-06],\n",
              "       [1.00000000e+00],\n",
              "       [5.79768828e-12],\n",
              "       [1.00000000e+00],\n",
              "       [2.68760743e-11],\n",
              "       [9.99998331e-01],\n",
              "       [2.82913015e-06],\n",
              "       [1.00000000e+00],\n",
              "       [9.99999523e-01],\n",
              "       [9.99999046e-01],\n",
              "       [1.11980345e-08],\n",
              "       [2.31282602e-08],\n",
              "       [1.00000000e+00],\n",
              "       [5.32976719e-06],\n",
              "       [9.99999642e-01],\n",
              "       [2.23379509e-10],\n",
              "       [9.81806517e-01],\n",
              "       [1.00000000e+00],\n",
              "       [2.16073701e-10],\n",
              "       [1.00000000e+00],\n",
              "       [5.70212933e-07],\n",
              "       [1.00000000e+00],\n",
              "       [1.00000000e+00],\n",
              "       [1.00000000e+00],\n",
              "       [1.00000000e+00],\n",
              "       [1.71732983e-09],\n",
              "       [9.99999881e-01],\n",
              "       [1.00000000e+00],\n",
              "       [9.89985524e-12],\n",
              "       [2.89925202e-12],\n",
              "       [1.66928782e-09],\n",
              "       [1.00000000e+00],\n",
              "       [1.00000000e+00],\n",
              "       [1.00000000e+00],\n",
              "       [1.93672822e-04],\n",
              "       [9.99999881e-01],\n",
              "       [1.00000000e+00],\n",
              "       [9.99999881e-01],\n",
              "       [1.75845005e-10],\n",
              "       [1.00000000e+00],\n",
              "       [3.44946756e-08],\n",
              "       [1.16867382e-09],\n",
              "       [1.18085914e-08],\n",
              "       [9.99966025e-01],\n",
              "       [2.24817717e-11],\n",
              "       [9.99932885e-01],\n",
              "       [9.99999166e-01],\n",
              "       [1.96313579e-08],\n",
              "       [9.82546128e-11],\n",
              "       [9.99249160e-01],\n",
              "       [1.00000000e+00],\n",
              "       [1.82812557e-10],\n",
              "       [9.99999762e-01],\n",
              "       [1.00000000e+00],\n",
              "       [1.00000000e+00],\n",
              "       [1.00000000e+00],\n",
              "       [2.28230329e-06],\n",
              "       [6.25665990e-08],\n",
              "       [1.00000000e+00],\n",
              "       [5.16345881e-06],\n",
              "       [1.00000000e+00],\n",
              "       [1.00000000e+00],\n",
              "       [2.56680122e-09],\n",
              "       [9.99876618e-01],\n",
              "       [9.99998212e-01],\n",
              "       [1.63316457e-07],\n",
              "       [3.39886924e-10],\n",
              "       [1.42915376e-11],\n",
              "       [9.99998808e-01],\n",
              "       [9.99997139e-01],\n",
              "       [1.00000000e+00],\n",
              "       [2.00096267e-07],\n",
              "       [9.99222994e-01],\n",
              "       [9.44120984e-05],\n",
              "       [3.34062206e-05],\n",
              "       [1.14767582e-08],\n",
              "       [4.07348431e-08],\n",
              "       [4.06772642e-06],\n",
              "       [2.20312987e-11],\n",
              "       [9.78024721e-01],\n",
              "       [9.25718723e-07],\n",
              "       [1.35159184e-11],\n",
              "       [1.00000000e+00],\n",
              "       [1.00000000e+00],\n",
              "       [9.99989748e-01],\n",
              "       [1.31831438e-11],\n",
              "       [1.71771469e-11],\n",
              "       [1.00000000e+00],\n",
              "       [1.00000000e+00],\n",
              "       [5.71297221e-07],\n",
              "       [1.21488086e-09],\n",
              "       [9.99999523e-01],\n",
              "       [2.50209586e-09],\n",
              "       [4.00075777e-08],\n",
              "       [3.57523049e-07],\n",
              "       [1.66864297e-07],\n",
              "       [1.00000000e+00],\n",
              "       [1.00000000e+00],\n",
              "       [3.70680958e-01],\n",
              "       [1.00000000e+00],\n",
              "       [9.99998808e-01],\n",
              "       [1.64612445e-07],\n",
              "       [9.87510681e-01],\n",
              "       [1.00000000e+00],\n",
              "       [9.99998927e-01],\n",
              "       [9.97246623e-01],\n",
              "       [9.99927044e-01],\n",
              "       [9.99953747e-01],\n",
              "       [1.00000000e+00],\n",
              "       [1.00000000e+00],\n",
              "       [1.00000000e+00],\n",
              "       [2.15699618e-08],\n",
              "       [1.49637992e-06],\n",
              "       [1.00000000e+00],\n",
              "       [1.14084673e-06],\n",
              "       [1.00000000e+00],\n",
              "       [9.99999404e-01],\n",
              "       [1.07475849e-07],\n",
              "       [1.33005940e-10],\n",
              "       [7.57334959e-11],\n",
              "       [4.46868757e-12],\n",
              "       [1.00000000e+00],\n",
              "       [4.42384462e-11],\n",
              "       [1.00000000e+00],\n",
              "       [9.99999642e-01],\n",
              "       [1.19614239e-08],\n",
              "       [1.00000000e+00],\n",
              "       [1.00000000e+00],\n",
              "       [2.12693041e-09],\n",
              "       [9.99847770e-01],\n",
              "       [1.00000000e+00],\n",
              "       [1.00000000e+00],\n",
              "       [9.99815404e-01],\n",
              "       [1.00000000e+00],\n",
              "       [8.49012658e-03],\n",
              "       [1.46294804e-14],\n",
              "       [7.66243249e-11],\n",
              "       [3.33788774e-10],\n",
              "       [2.55255230e-07],\n",
              "       [1.00000000e+00],\n",
              "       [1.00000000e+00],\n",
              "       [7.64172503e-10],\n",
              "       [1.00000000e+00],\n",
              "       [1.47613468e-08],\n",
              "       [9.99997854e-01],\n",
              "       [3.92599464e-09],\n",
              "       [1.47939079e-06],\n",
              "       [1.00000000e+00],\n",
              "       [1.00000000e+00],\n",
              "       [1.00000000e+00],\n",
              "       [9.99999762e-01],\n",
              "       [1.00000000e+00],\n",
              "       [1.00000000e+00],\n",
              "       [1.47439699e-10],\n",
              "       [1.49550168e-08],\n",
              "       [3.36773304e-10],\n",
              "       [9.79718447e-01],\n",
              "       [1.00000000e+00],\n",
              "       [1.00000000e+00],\n",
              "       [6.98882330e-09],\n",
              "       [1.22401117e-11],\n",
              "       [1.00000000e+00],\n",
              "       [1.00000000e+00],\n",
              "       [1.00000000e+00],\n",
              "       [4.36217852e-05],\n",
              "       [3.92769657e-08],\n",
              "       [1.00000000e+00],\n",
              "       [2.27560776e-10],\n",
              "       [3.18572440e-08],\n",
              "       [1.98272154e-09],\n",
              "       [2.29751294e-07],\n",
              "       [1.00000000e+00],\n",
              "       [2.58249571e-07],\n",
              "       [1.34604985e-08],\n",
              "       [7.73648593e-12],\n",
              "       [3.36541461e-10],\n",
              "       [1.16396328e-11],\n",
              "       [1.00000000e+00],\n",
              "       [2.04361679e-12],\n",
              "       [3.59407747e-11],\n",
              "       [1.00000000e+00],\n",
              "       [9.99999881e-01],\n",
              "       [9.41481062e-07],\n",
              "       [9.99947071e-01],\n",
              "       [1.00000000e+00],\n",
              "       [3.32952482e-06],\n",
              "       [1.00000000e+00],\n",
              "       [1.00000000e+00],\n",
              "       [1.99004617e-08],\n",
              "       [1.00000000e+00],\n",
              "       [5.89628328e-08],\n",
              "       [5.29010435e-07],\n",
              "       [1.00000000e+00],\n",
              "       [1.00000000e+00],\n",
              "       [9.92408633e-01],\n",
              "       [9.96342480e-01],\n",
              "       [1.00000000e+00],\n",
              "       [1.00000000e+00],\n",
              "       [1.00000000e+00],\n",
              "       [1.73332876e-10],\n",
              "       [4.33800079e-10],\n",
              "       [5.07750447e-05],\n",
              "       [1.00000000e+00],\n",
              "       [9.92554128e-01],\n",
              "       [1.68644249e-07],\n",
              "       [7.71334001e-08],\n",
              "       [1.00000000e+00],\n",
              "       [8.95999186e-09],\n",
              "       [5.53736301e-09],\n",
              "       [1.16201562e-11],\n",
              "       [6.08786112e-12],\n",
              "       [1.83000692e-09],\n",
              "       [2.20752497e-07],\n",
              "       [7.95280897e-10],\n",
              "       [1.02985417e-02],\n",
              "       [1.01623480e-10],\n",
              "       [1.00000000e+00],\n",
              "       [2.88471016e-13],\n",
              "       [9.99915600e-01],\n",
              "       [1.00000000e+00],\n",
              "       [1.43944010e-06],\n",
              "       [2.50310306e-09],\n",
              "       [9.33237558e-08],\n",
              "       [1.00000000e+00],\n",
              "       [6.40770813e-12],\n",
              "       [1.00000000e+00],\n",
              "       [1.08463718e-02],\n",
              "       [9.99999523e-01],\n",
              "       [1.00000000e+00],\n",
              "       [6.58169482e-12],\n",
              "       [9.99997616e-01],\n",
              "       [4.84365137e-06],\n",
              "       [1.00000000e+00],\n",
              "       [1.00000000e+00],\n",
              "       [9.94788051e-01],\n",
              "       [7.69448718e-08],\n",
              "       [1.05402957e-10],\n",
              "       [1.61547286e-11],\n",
              "       [1.23735802e-07],\n",
              "       [6.44740641e-01],\n",
              "       [1.14123537e-10],\n",
              "       [1.00000000e+00],\n",
              "       [5.93604543e-09],\n",
              "       [6.52437260e-09],\n",
              "       [1.02293227e-04],\n",
              "       [3.23124254e-07],\n",
              "       [6.00190633e-13],\n",
              "       [4.45370985e-09],\n",
              "       [5.97515318e-04],\n",
              "       [4.67429231e-07],\n",
              "       [9.99937057e-01],\n",
              "       [1.00000000e+00],\n",
              "       [2.63322632e-12],\n",
              "       [3.45745588e-09],\n",
              "       [3.91146564e-08],\n",
              "       [1.00000000e+00],\n",
              "       [1.22764723e-05],\n",
              "       [2.48311441e-11],\n",
              "       [1.00000000e+00],\n",
              "       [1.00000000e+00],\n",
              "       [9.56473073e-13],\n",
              "       [8.62313054e-10],\n",
              "       [5.78082471e-09]], dtype=float32)"
            ]
          },
          "metadata": {},
          "execution_count": 32
        }
      ]
    },
    {
      "cell_type": "code",
      "source": [
        "y_test_hat_rounded = np.around(y_test_prob)   # this would convert [0.87, 0.13] to [1., 0.]\n",
        "y_test_hat_rounded"
      ],
      "metadata": {
        "colab": {
          "base_uri": "https://localhost:8080/"
        },
        "id": "_CHQaU8Oc6R-",
        "outputId": "7a6e894b-8c26-4324-8d7a-70afccc39d2a"
      },
      "execution_count": null,
      "outputs": [
        {
          "output_type": "execute_result",
          "data": {
            "text/plain": [
              "array([[0.],\n",
              "       [0.],\n",
              "       [1.],\n",
              "       [0.],\n",
              "       [0.],\n",
              "       [0.],\n",
              "       [1.],\n",
              "       [1.],\n",
              "       [0.],\n",
              "       [0.],\n",
              "       [0.],\n",
              "       [1.],\n",
              "       [0.],\n",
              "       [1.],\n",
              "       [0.],\n",
              "       [0.],\n",
              "       [1.],\n",
              "       [1.],\n",
              "       [1.],\n",
              "       [1.],\n",
              "       [0.],\n",
              "       [1.],\n",
              "       [0.],\n",
              "       [0.],\n",
              "       [1.],\n",
              "       [1.],\n",
              "       [1.],\n",
              "       [0.],\n",
              "       [0.],\n",
              "       [0.],\n",
              "       [0.],\n",
              "       [0.],\n",
              "       [0.],\n",
              "       [0.],\n",
              "       [1.],\n",
              "       [1.],\n",
              "       [1.],\n",
              "       [0.],\n",
              "       [0.],\n",
              "       [0.],\n",
              "       [0.],\n",
              "       [1.],\n",
              "       [0.],\n",
              "       [0.],\n",
              "       [0.],\n",
              "       [0.],\n",
              "       [0.],\n",
              "       [0.],\n",
              "       [0.],\n",
              "       [0.],\n",
              "       [0.],\n",
              "       [0.],\n",
              "       [1.],\n",
              "       [1.],\n",
              "       [0.],\n",
              "       [0.],\n",
              "       [1.],\n",
              "       [1.],\n",
              "       [1.],\n",
              "       [0.],\n",
              "       [0.],\n",
              "       [0.],\n",
              "       [1.],\n",
              "       [1.],\n",
              "       [1.],\n",
              "       [1.],\n",
              "       [1.],\n",
              "       [0.],\n",
              "       [1.],\n",
              "       [1.],\n",
              "       [1.],\n",
              "       [1.],\n",
              "       [0.],\n",
              "       [0.],\n",
              "       [1.],\n",
              "       [0.],\n",
              "       [1.],\n",
              "       [0.],\n",
              "       [1.],\n",
              "       [0.],\n",
              "       [1.],\n",
              "       [0.],\n",
              "       [1.],\n",
              "       [0.],\n",
              "       [1.],\n",
              "       [1.],\n",
              "       [1.],\n",
              "       [1.],\n",
              "       [1.],\n",
              "       [1.],\n",
              "       [1.],\n",
              "       [0.],\n",
              "       [0.],\n",
              "       [0.],\n",
              "       [0.],\n",
              "       [0.],\n",
              "       [0.],\n",
              "       [0.],\n",
              "       [1.],\n",
              "       [1.],\n",
              "       [0.],\n",
              "       [0.],\n",
              "       [1.],\n",
              "       [1.],\n",
              "       [0.],\n",
              "       [0.],\n",
              "       [0.],\n",
              "       [1.],\n",
              "       [0.],\n",
              "       [0.],\n",
              "       [0.],\n",
              "       [1.],\n",
              "       [1.],\n",
              "       [1.],\n",
              "       [1.],\n",
              "       [0.],\n",
              "       [1.],\n",
              "       [1.],\n",
              "       [0.],\n",
              "       [1.],\n",
              "       [1.],\n",
              "       [0.],\n",
              "       [0.],\n",
              "       [0.],\n",
              "       [1.],\n",
              "       [1.],\n",
              "       [0.],\n",
              "       [1.],\n",
              "       [1.],\n",
              "       [1.],\n",
              "       [0.],\n",
              "       [0.],\n",
              "       [0.],\n",
              "       [0.],\n",
              "       [0.],\n",
              "       [1.],\n",
              "       [0.],\n",
              "       [0.],\n",
              "       [1.],\n",
              "       [0.],\n",
              "       [1.],\n",
              "       [1.],\n",
              "       [1.],\n",
              "       [0.],\n",
              "       [1.],\n",
              "       [1.],\n",
              "       [0.],\n",
              "       [1.],\n",
              "       [0.],\n",
              "       [0.],\n",
              "       [0.],\n",
              "       [0.],\n",
              "       [1.],\n",
              "       [0.],\n",
              "       [1.],\n",
              "       [0.],\n",
              "       [1.],\n",
              "       [0.],\n",
              "       [1.],\n",
              "       [1.],\n",
              "       [0.],\n",
              "       [0.],\n",
              "       [1.],\n",
              "       [0.],\n",
              "       [0.],\n",
              "       [0.],\n",
              "       [0.],\n",
              "       [1.],\n",
              "       [0.],\n",
              "       [1.],\n",
              "       [0.],\n",
              "       [1.],\n",
              "       [0.],\n",
              "       [1.],\n",
              "       [0.],\n",
              "       [0.],\n",
              "       [0.],\n",
              "       [0.],\n",
              "       [0.],\n",
              "       [1.],\n",
              "       [1.],\n",
              "       [1.],\n",
              "       [0.],\n",
              "       [1.],\n",
              "       [0.],\n",
              "       [1.],\n",
              "       [0.],\n",
              "       [0.],\n",
              "       [1.],\n",
              "       [0.],\n",
              "       [1.],\n",
              "       [0.],\n",
              "       [1.],\n",
              "       [0.],\n",
              "       [1.],\n",
              "       [1.],\n",
              "       [1.],\n",
              "       [0.],\n",
              "       [0.],\n",
              "       [1.],\n",
              "       [0.],\n",
              "       [1.],\n",
              "       [0.],\n",
              "       [1.],\n",
              "       [1.],\n",
              "       [0.],\n",
              "       [1.],\n",
              "       [0.],\n",
              "       [1.],\n",
              "       [1.],\n",
              "       [1.],\n",
              "       [1.],\n",
              "       [0.],\n",
              "       [1.],\n",
              "       [1.],\n",
              "       [0.],\n",
              "       [0.],\n",
              "       [0.],\n",
              "       [1.],\n",
              "       [1.],\n",
              "       [1.],\n",
              "       [0.],\n",
              "       [1.],\n",
              "       [1.],\n",
              "       [1.],\n",
              "       [0.],\n",
              "       [1.],\n",
              "       [0.],\n",
              "       [0.],\n",
              "       [0.],\n",
              "       [1.],\n",
              "       [0.],\n",
              "       [1.],\n",
              "       [1.],\n",
              "       [0.],\n",
              "       [0.],\n",
              "       [1.],\n",
              "       [1.],\n",
              "       [0.],\n",
              "       [1.],\n",
              "       [1.],\n",
              "       [1.],\n",
              "       [1.],\n",
              "       [0.],\n",
              "       [0.],\n",
              "       [1.],\n",
              "       [0.],\n",
              "       [1.],\n",
              "       [1.],\n",
              "       [0.],\n",
              "       [1.],\n",
              "       [1.],\n",
              "       [0.],\n",
              "       [0.],\n",
              "       [0.],\n",
              "       [1.],\n",
              "       [1.],\n",
              "       [1.],\n",
              "       [0.],\n",
              "       [1.],\n",
              "       [0.],\n",
              "       [0.],\n",
              "       [0.],\n",
              "       [0.],\n",
              "       [0.],\n",
              "       [0.],\n",
              "       [1.],\n",
              "       [0.],\n",
              "       [0.],\n",
              "       [1.],\n",
              "       [1.],\n",
              "       [1.],\n",
              "       [0.],\n",
              "       [0.],\n",
              "       [1.],\n",
              "       [1.],\n",
              "       [0.],\n",
              "       [0.],\n",
              "       [1.],\n",
              "       [0.],\n",
              "       [0.],\n",
              "       [0.],\n",
              "       [0.],\n",
              "       [1.],\n",
              "       [1.],\n",
              "       [0.],\n",
              "       [1.],\n",
              "       [1.],\n",
              "       [0.],\n",
              "       [1.],\n",
              "       [1.],\n",
              "       [1.],\n",
              "       [1.],\n",
              "       [1.],\n",
              "       [1.],\n",
              "       [1.],\n",
              "       [1.],\n",
              "       [1.],\n",
              "       [0.],\n",
              "       [0.],\n",
              "       [1.],\n",
              "       [0.],\n",
              "       [1.],\n",
              "       [1.],\n",
              "       [0.],\n",
              "       [0.],\n",
              "       [0.],\n",
              "       [0.],\n",
              "       [1.],\n",
              "       [0.],\n",
              "       [1.],\n",
              "       [1.],\n",
              "       [0.],\n",
              "       [1.],\n",
              "       [1.],\n",
              "       [0.],\n",
              "       [1.],\n",
              "       [1.],\n",
              "       [1.],\n",
              "       [1.],\n",
              "       [1.],\n",
              "       [0.],\n",
              "       [0.],\n",
              "       [0.],\n",
              "       [0.],\n",
              "       [0.],\n",
              "       [1.],\n",
              "       [1.],\n",
              "       [0.],\n",
              "       [1.],\n",
              "       [0.],\n",
              "       [1.],\n",
              "       [0.],\n",
              "       [0.],\n",
              "       [1.],\n",
              "       [1.],\n",
              "       [1.],\n",
              "       [1.],\n",
              "       [1.],\n",
              "       [1.],\n",
              "       [0.],\n",
              "       [0.],\n",
              "       [0.],\n",
              "       [1.],\n",
              "       [1.],\n",
              "       [1.],\n",
              "       [0.],\n",
              "       [0.],\n",
              "       [1.],\n",
              "       [1.],\n",
              "       [1.],\n",
              "       [0.],\n",
              "       [0.],\n",
              "       [1.],\n",
              "       [0.],\n",
              "       [0.],\n",
              "       [0.],\n",
              "       [0.],\n",
              "       [1.],\n",
              "       [0.],\n",
              "       [0.],\n",
              "       [0.],\n",
              "       [0.],\n",
              "       [0.],\n",
              "       [1.],\n",
              "       [0.],\n",
              "       [0.],\n",
              "       [1.],\n",
              "       [1.],\n",
              "       [0.],\n",
              "       [1.],\n",
              "       [1.],\n",
              "       [0.],\n",
              "       [1.],\n",
              "       [1.],\n",
              "       [0.],\n",
              "       [1.],\n",
              "       [0.],\n",
              "       [0.],\n",
              "       [1.],\n",
              "       [1.],\n",
              "       [1.],\n",
              "       [1.],\n",
              "       [1.],\n",
              "       [1.],\n",
              "       [1.],\n",
              "       [0.],\n",
              "       [0.],\n",
              "       [0.],\n",
              "       [1.],\n",
              "       [1.],\n",
              "       [0.],\n",
              "       [0.],\n",
              "       [1.],\n",
              "       [0.],\n",
              "       [0.],\n",
              "       [0.],\n",
              "       [0.],\n",
              "       [0.],\n",
              "       [0.],\n",
              "       [0.],\n",
              "       [0.],\n",
              "       [0.],\n",
              "       [1.],\n",
              "       [0.],\n",
              "       [1.],\n",
              "       [1.],\n",
              "       [0.],\n",
              "       [0.],\n",
              "       [0.],\n",
              "       [1.],\n",
              "       [0.],\n",
              "       [1.],\n",
              "       [0.],\n",
              "       [1.],\n",
              "       [1.],\n",
              "       [0.],\n",
              "       [1.],\n",
              "       [0.],\n",
              "       [1.],\n",
              "       [1.],\n",
              "       [1.],\n",
              "       [0.],\n",
              "       [0.],\n",
              "       [0.],\n",
              "       [0.],\n",
              "       [1.],\n",
              "       [0.],\n",
              "       [1.],\n",
              "       [0.],\n",
              "       [0.],\n",
              "       [0.],\n",
              "       [0.],\n",
              "       [0.],\n",
              "       [0.],\n",
              "       [0.],\n",
              "       [0.],\n",
              "       [1.],\n",
              "       [1.],\n",
              "       [0.],\n",
              "       [0.],\n",
              "       [0.],\n",
              "       [1.],\n",
              "       [0.],\n",
              "       [0.],\n",
              "       [1.],\n",
              "       [1.],\n",
              "       [0.],\n",
              "       [0.],\n",
              "       [0.]], dtype=float32)"
            ]
          },
          "metadata": {},
          "execution_count": 33
        }
      ]
    },
    {
      "cell_type": "markdown",
      "source": [
        "# F1-SCORE ON TESTING DATA"
      ],
      "metadata": {
        "id": "gZNNTo2Gc8jQ"
      }
    },
    {
      "cell_type": "code",
      "source": [
        "f1score = compute_f1_score(y_test, y_test_hat_rounded)\n"
      ],
      "metadata": {
        "id": "iD_1ofAWc-AO"
      },
      "execution_count": null,
      "outputs": []
    },
    {
      "cell_type": "code",
      "source": [
        "f1score*100"
      ],
      "metadata": {
        "colab": {
          "base_uri": "https://localhost:8080/"
        },
        "id": "etqXFoKOeJoU",
        "outputId": "cb88b16d-994c-4697-92bf-2d0660990507"
      },
      "execution_count": null,
      "outputs": [
        {
          "output_type": "execute_result",
          "data": {
            "text/plain": [
              "96.71361502347418"
            ]
          },
          "metadata": {},
          "execution_count": 36
        }
      ]
    },
    {
      "cell_type": "markdown",
      "source": [
        "# GENERAL INFO ABOUT THE DATASET"
      ],
      "metadata": {
        "id": "d0XR7llZdAE1"
      }
    },
    {
      "cell_type": "code",
      "source": [
        "def data_percentage(y):\n",
        "\n",
        "    m=len(y)\n",
        "    n_positive = np.sum(y)\n",
        "    n_negative = m - n_positive\n",
        "\n",
        "    pos_prec = (n_positive* 100.0)/ m\n",
        "    neg_prec = (n_negative* 100.0)/ m\n",
        "\n",
        "    print(\"Number of examples:{}\".format(m))\n",
        "    print(\"Percentage of positive examples: {}%, number of pos examples: {}\".format(pos_prec,n_positive))\n",
        "    print(\"Percentage of negative examples: {}%, number of neg examples: {}\".format(neg_prec,n_negative))"
      ],
      "metadata": {
        "id": "HB6swZ5adCAj"
      },
      "execution_count": null,
      "outputs": []
    },
    {
      "cell_type": "code",
      "source": [
        "y = np.concatenate((y_train, y_test, y_val), axis=0)\n",
        "data_percentage(y)"
      ],
      "metadata": {
        "colab": {
          "base_uri": "https://localhost:8080/"
        },
        "id": "3LPdDC6hdHzh",
        "outputId": "a59b82b0-1a54-4c8d-fffc-9c2871a979d2"
      },
      "execution_count": null,
      "outputs": [
        {
          "output_type": "stream",
          "name": "stdout",
          "text": [
            "Number of examples:3000\n",
            "Percentage of positive examples: 50.0%, number of pos examples: 1500\n",
            "Percentage of negative examples: 50.0%, number of neg examples: 1500\n"
          ]
        }
      ]
    },
    {
      "cell_type": "code",
      "source": [
        "print(\"Training Data:\")\n",
        "data_percentage(y_train)\n",
        "print(\"Validation Data:\")\n",
        "data_percentage(y_val)\n",
        "print(\"Testing Data:\")\n",
        "data_percentage(y_test)"
      ],
      "metadata": {
        "colab": {
          "base_uri": "https://localhost:8080/"
        },
        "id": "piaMjSKMdKHb",
        "outputId": "eff572ce-1324-4913-8099-c462d17bea3a"
      },
      "execution_count": null,
      "outputs": [
        {
          "output_type": "stream",
          "name": "stdout",
          "text": [
            "Training Data:\n",
            "Number of examples:2100\n",
            "Percentage of positive examples: 49.80952380952381%, number of pos examples: 1046\n",
            "Percentage of negative examples: 50.19047619047619%, number of neg examples: 1054\n",
            "Validation Data:\n",
            "Number of examples:450\n",
            "Percentage of positive examples: 53.55555555555556%, number of pos examples: 241\n",
            "Percentage of negative examples: 46.44444444444444%, number of neg examples: 209\n",
            "Testing Data:\n",
            "Number of examples:450\n",
            "Percentage of positive examples: 47.333333333333336%, number of pos examples: 213\n",
            "Percentage of negative examples: 52.666666666666664%, number of neg examples: 237\n"
          ]
        }
      ]
    },
    {
      "cell_type": "markdown",
      "source": [
        "# MAKING PREDICTIONS ON IMAGES"
      ],
      "metadata": {
        "id": "fY2kAcS9dMqq"
      }
    },
    {
      "cell_type": "code",
      "source": [
        "from google.colab import files\n",
        "uploaded = files.upload()"
      ],
      "metadata": {
        "colab": {
          "base_uri": "https://localhost:8080/",
          "height": 72
        },
        "id": "NPZmKymNdM6u",
        "outputId": "65b0f89e-32bd-4de3-a3d6-9950743d587a"
      },
      "execution_count": null,
      "outputs": [
        {
          "output_type": "display_data",
          "data": {
            "text/plain": [
              "<IPython.core.display.HTML object>"
            ],
            "text/html": [
              "\n",
              "     <input type=\"file\" id=\"files-364f43ab-057f-4364-b167-c9e46bf690c3\" name=\"files[]\" multiple disabled\n",
              "        style=\"border:none\" />\n",
              "     <output id=\"result-364f43ab-057f-4364-b167-c9e46bf690c3\">\n",
              "      Upload widget is only available when the cell has been executed in the\n",
              "      current browser session. Please rerun this cell to enable.\n",
              "      </output>\n",
              "      <script>// Copyright 2017 Google LLC\n",
              "//\n",
              "// Licensed under the Apache License, Version 2.0 (the \"License\");\n",
              "// you may not use this file except in compliance with the License.\n",
              "// You may obtain a copy of the License at\n",
              "//\n",
              "//      http://www.apache.org/licenses/LICENSE-2.0\n",
              "//\n",
              "// Unless required by applicable law or agreed to in writing, software\n",
              "// distributed under the License is distributed on an \"AS IS\" BASIS,\n",
              "// WITHOUT WARRANTIES OR CONDITIONS OF ANY KIND, either express or implied.\n",
              "// See the License for the specific language governing permissions and\n",
              "// limitations under the License.\n",
              "\n",
              "/**\n",
              " * @fileoverview Helpers for google.colab Python module.\n",
              " */\n",
              "(function(scope) {\n",
              "function span(text, styleAttributes = {}) {\n",
              "  const element = document.createElement('span');\n",
              "  element.textContent = text;\n",
              "  for (const key of Object.keys(styleAttributes)) {\n",
              "    element.style[key] = styleAttributes[key];\n",
              "  }\n",
              "  return element;\n",
              "}\n",
              "\n",
              "// Max number of bytes which will be uploaded at a time.\n",
              "const MAX_PAYLOAD_SIZE = 100 * 1024;\n",
              "\n",
              "function _uploadFiles(inputId, outputId) {\n",
              "  const steps = uploadFilesStep(inputId, outputId);\n",
              "  const outputElement = document.getElementById(outputId);\n",
              "  // Cache steps on the outputElement to make it available for the next call\n",
              "  // to uploadFilesContinue from Python.\n",
              "  outputElement.steps = steps;\n",
              "\n",
              "  return _uploadFilesContinue(outputId);\n",
              "}\n",
              "\n",
              "// This is roughly an async generator (not supported in the browser yet),\n",
              "// where there are multiple asynchronous steps and the Python side is going\n",
              "// to poll for completion of each step.\n",
              "// This uses a Promise to block the python side on completion of each step,\n",
              "// then passes the result of the previous step as the input to the next step.\n",
              "function _uploadFilesContinue(outputId) {\n",
              "  const outputElement = document.getElementById(outputId);\n",
              "  const steps = outputElement.steps;\n",
              "\n",
              "  const next = steps.next(outputElement.lastPromiseValue);\n",
              "  return Promise.resolve(next.value.promise).then((value) => {\n",
              "    // Cache the last promise value to make it available to the next\n",
              "    // step of the generator.\n",
              "    outputElement.lastPromiseValue = value;\n",
              "    return next.value.response;\n",
              "  });\n",
              "}\n",
              "\n",
              "/**\n",
              " * Generator function which is called between each async step of the upload\n",
              " * process.\n",
              " * @param {string} inputId Element ID of the input file picker element.\n",
              " * @param {string} outputId Element ID of the output display.\n",
              " * @return {!Iterable<!Object>} Iterable of next steps.\n",
              " */\n",
              "function* uploadFilesStep(inputId, outputId) {\n",
              "  const inputElement = document.getElementById(inputId);\n",
              "  inputElement.disabled = false;\n",
              "\n",
              "  const outputElement = document.getElementById(outputId);\n",
              "  outputElement.innerHTML = '';\n",
              "\n",
              "  const pickedPromise = new Promise((resolve) => {\n",
              "    inputElement.addEventListener('change', (e) => {\n",
              "      resolve(e.target.files);\n",
              "    });\n",
              "  });\n",
              "\n",
              "  const cancel = document.createElement('button');\n",
              "  inputElement.parentElement.appendChild(cancel);\n",
              "  cancel.textContent = 'Cancel upload';\n",
              "  const cancelPromise = new Promise((resolve) => {\n",
              "    cancel.onclick = () => {\n",
              "      resolve(null);\n",
              "    };\n",
              "  });\n",
              "\n",
              "  // Wait for the user to pick the files.\n",
              "  const files = yield {\n",
              "    promise: Promise.race([pickedPromise, cancelPromise]),\n",
              "    response: {\n",
              "      action: 'starting',\n",
              "    }\n",
              "  };\n",
              "\n",
              "  cancel.remove();\n",
              "\n",
              "  // Disable the input element since further picks are not allowed.\n",
              "  inputElement.disabled = true;\n",
              "\n",
              "  if (!files) {\n",
              "    return {\n",
              "      response: {\n",
              "        action: 'complete',\n",
              "      }\n",
              "    };\n",
              "  }\n",
              "\n",
              "  for (const file of files) {\n",
              "    const li = document.createElement('li');\n",
              "    li.append(span(file.name, {fontWeight: 'bold'}));\n",
              "    li.append(span(\n",
              "        `(${file.type || 'n/a'}) - ${file.size} bytes, ` +\n",
              "        `last modified: ${\n",
              "            file.lastModifiedDate ? file.lastModifiedDate.toLocaleDateString() :\n",
              "                                    'n/a'} - `));\n",
              "    const percent = span('0% done');\n",
              "    li.appendChild(percent);\n",
              "\n",
              "    outputElement.appendChild(li);\n",
              "\n",
              "    const fileDataPromise = new Promise((resolve) => {\n",
              "      const reader = new FileReader();\n",
              "      reader.onload = (e) => {\n",
              "        resolve(e.target.result);\n",
              "      };\n",
              "      reader.readAsArrayBuffer(file);\n",
              "    });\n",
              "    // Wait for the data to be ready.\n",
              "    let fileData = yield {\n",
              "      promise: fileDataPromise,\n",
              "      response: {\n",
              "        action: 'continue',\n",
              "      }\n",
              "    };\n",
              "\n",
              "    // Use a chunked sending to avoid message size limits. See b/62115660.\n",
              "    let position = 0;\n",
              "    do {\n",
              "      const length = Math.min(fileData.byteLength - position, MAX_PAYLOAD_SIZE);\n",
              "      const chunk = new Uint8Array(fileData, position, length);\n",
              "      position += length;\n",
              "\n",
              "      const base64 = btoa(String.fromCharCode.apply(null, chunk));\n",
              "      yield {\n",
              "        response: {\n",
              "          action: 'append',\n",
              "          file: file.name,\n",
              "          data: base64,\n",
              "        },\n",
              "      };\n",
              "\n",
              "      let percentDone = fileData.byteLength === 0 ?\n",
              "          100 :\n",
              "          Math.round((position / fileData.byteLength) * 100);\n",
              "      percent.textContent = `${percentDone}% done`;\n",
              "\n",
              "    } while (position < fileData.byteLength);\n",
              "  }\n",
              "\n",
              "  // All done.\n",
              "  yield {\n",
              "    response: {\n",
              "      action: 'complete',\n",
              "    }\n",
              "  };\n",
              "}\n",
              "\n",
              "scope.google = scope.google || {};\n",
              "scope.google.colab = scope.google.colab || {};\n",
              "scope.google.colab._files = {\n",
              "  _uploadFiles,\n",
              "  _uploadFilesContinue,\n",
              "};\n",
              "})(self);\n",
              "</script> "
            ]
          },
          "metadata": {}
        },
        {
          "output_type": "stream",
          "name": "stdout",
          "text": [
            "Saving download.jpeg to download.jpeg\n"
          ]
        }
      ]
    },
    {
      "cell_type": "code",
      "source": [
        "image = cv2.imread('/content/download.jpeg')\n",
        "\n",
        "image = crop_brain_contour(image, plot=False)\n",
        "\n",
        "\n",
        "image = cv2.resize(image, dsize=(224, 224), interpolation=cv2.INTER_CUBIC)\n",
        "\n",
        "image = image / 255.\n",
        "\n",
        "plt.imshow(image)\n",
        "\n",
        "plt.title(\"INPUT IMAGE (with tumor)\");"
      ],
      "metadata": {
        "colab": {
          "base_uri": "https://localhost:8080/",
          "height": 281
        },
        "id": "uPkdIUd4dO6t",
        "outputId": "fb045d0e-402b-4188-b7d8-9c3211ccbbc7"
      },
      "execution_count": null,
      "outputs": [
        {
          "output_type": "display_data",
          "data": {
            "text/plain": [
              "<Figure size 432x288 with 1 Axes>"
            ],
            "image/png": "[encoded data removed]"
          },
          "metadata": {
            "needs_background": "light"
          }
        }
      ]
    },
    {
      "cell_type": "code",
      "source": [
        "\n",
        "res = transfer_model.predict( np.array( [image,] )  )\n"
      ],
      "metadata": {
        "colab": {
          "base_uri": "https://localhost:8080/"
        },
        "id": "Ficwv3b8dTrx",
        "outputId": "c264aa04-023f-4c1a-a173-24ebf1e2dc92"
      },
      "execution_count": null,
      "outputs": [
        {
          "output_type": "stream",
          "name": "stdout",
          "text": [
            "1/1 [==============================] - 1s 684ms/step\n"
          ]
        }
      ]
    },
    {
      "cell_type": "code",
      "source": [
        "if res[0] > 0.5:\n",
        "  print(f\"The input image has tumor with {res[0][0]*100}% accuracy\")\n",
        "else:\n",
        "  print(f\"The input image has no tumor with {(1 - res[0][0])*100}% accuracy\")"
      ],
      "metadata": {
        "colab": {
          "base_uri": "https://localhost:8080/"
        },
        "id": "yNPC2Bn2dVdz",
        "outputId": "1d9e8596-bbfa-4228-807e-5864004ff30c"
      },
      "execution_count": null,
      "outputs": [
        {
          "output_type": "stream",
          "name": "stdout",
          "text": [
            "The input image has tumor with 99.97230172157288% accuracy\n"
          ]
        }
      ]
    },
    {
      "cell_type": "code",
      "source": [],
      "metadata": {
        "id": "lrzUfMApegKX"
      },
      "execution_count": null,
      "outputs": []
    }
  ]
}